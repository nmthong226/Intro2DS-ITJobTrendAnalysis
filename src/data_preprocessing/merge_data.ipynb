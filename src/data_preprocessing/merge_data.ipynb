{
 "cells": [
  {
   "cell_type": "code",
   "execution_count": 1,
   "metadata": {},
   "outputs": [],
   "source": [
    "import pandas as pd"
   ]
  },
  {
   "cell_type": "code",
   "execution_count": 10,
   "metadata": {},
   "outputs": [],
   "source": [
    "input_file_vietnamwork_11_2024 = 'D:\\\\Work\\\\Projects\\\\Intro2DS-ITJobTrendAnalysis\\\\data\\\\raw\\\\11-2024\\\\11_2024_vietnamworks.csv'\n",
    "input_file_vietnamwork_12_2024 = 'D:\\\\Work\\\\Projects\\\\Intro2DS-ITJobTrendAnalysis\\\\data\\\\raw\\\\12-2024\\\\12_2024_vietnamwork.csv'\n",
    "\n",
    "merged_input_file_vietnamwork = 'D:\\\\Work\\\\Projects\\\\Intro2DS-ITJobTrendAnalysis\\\\data\\\\raw\\\\merged_file_raw\\\\merged_file_raw_vietnamworks.csv'"
   ]
  },
  {
   "cell_type": "code",
   "execution_count": 12,
   "metadata": {},
   "outputs": [
    {
     "data": {
      "text/plain": [
       "(                                           Job Title  \\\n",
       " 0                             Database Administrator   \n",
       " 1    QA Supervisor ( Nghỉ Tất Cả Thứ 7 và Chủ Nhật )   \n",
       " 2                       Business Application Manager   \n",
       " 3             Nhân Viên Kỹ Thuật Công Nghệ Thông Tin   \n",
       " 4  Software Engineer - Integration Build (Opensou...   \n",
       " \n",
       "                                                 Role Level  \\\n",
       " 0                             Database Administrator   NaN   \n",
       " 1        QA Supervisor Nghỉ Tất Cả Thứ 7 và Chủ Nhật   NaN   \n",
       " 2                       Business Application Manager   NaN   \n",
       " 3             Nhân Viên Kỹ Thuật Công Nghệ Thông Tin   NaN   \n",
       " 4  Software Engineer - Integration Build Opensour...   NaN   \n",
       " \n",
       "              year_of_experiences  \\\n",
       " 0              2 năm kinh nghiệm   \n",
       " 1              5 năm kinh nghiệm   \n",
       " 2              3 năm kinh nghiệm   \n",
       " 3              1 năm kinh nghiệm   \n",
       " 4  Không yêu cầu năm kinh nghiệm   \n",
       " \n",
       "                                            Company  \\\n",
       " 0                                    Navigos Group   \n",
       " 1  Mektec Manufacturing Corporation (Vietnam) Ltd.   \n",
       " 2                                              NaN   \n",
       " 3              Công ty Cổ phần Công Nghệ Thiên Vận   \n",
       " 4                       LG Electronics R&D Vietnam   \n",
       " \n",
       "                                             Location      Salary Range  \\\n",
       " 0  HCM Office: 20th Floor, E Town Central - 11 Do...      Thương lượng   \n",
       " 1  Plot K-3&4, Thang Long Industrial Park II, Di ...  $ 700-900 /tháng   \n",
       " 2                                                NaN      Thương lượng   \n",
       " 3  1 Phổ Quang, Phường 2, Quận Tân Bình, Thành ph...      Thương lượng   \n",
       " 4  Tòa Lotte Mall 272 Võ Chí Công, Phường Phú Thư...      Thương lượng   \n",
       " \n",
       "                                      Required Skills  \\\n",
       " 0  MS SQL Server, Mysql, Python, Crm Databases, Ssrs   \n",
       " 1  QA, QC, SMT Production, 8D Problem Solving, En...   \n",
       " 2  Application Development, Business Planning, Cu...   \n",
       " 3  Bảo Trì Hệ Thống, Công Nghệ Thông Tin, Hỗ Trợ ...   \n",
       " 4  C++, Python, Integration Management, Shell scr...   \n",
       " \n",
       "                                      Source Platform Year Of Experiences  \n",
       " 0  https://www.vietnamworks.com/database-administ...                 NaN  \n",
       " 1  https://www.vietnamworks.com/qa-supervisor-ngh...                 NaN  \n",
       " 2  https://www.vietnamworks.com/business-applicat...                 NaN  \n",
       " 3  https://www.vietnamworks.com/nhan-vien-ky-thua...                 NaN  \n",
       " 4  https://www.vietnamworks.com/software-engineer...                 NaN  ,\n",
       " 1254)"
      ]
     },
     "execution_count": 12,
     "metadata": {},
     "output_type": "execute_result"
    }
   ],
   "source": [
    "# Load the data\n",
    "df_11_vnw = pd.read_csv(input_file_vietnamwork_11_2024)\n",
    "df_12_vnw = pd.read_csv(input_file_vietnamwork_12_2024)\n",
    "\n",
    "# Concatenate the dataframes\n",
    "merged_df = pd.concat([df_11_vnw, df_12_vnw], ignore_index=True)\n",
    "\n",
    "# Drop duplicate rows based on all columns\n",
    "unique_df = merged_df.drop_duplicates()\n",
    "\n",
    "# Save the unique rows to the output file\n",
    "unique_df.to_csv(merged_input_file_vietnamwork, index=False)\n",
    "\n",
    "unique_df.head(), len(unique_df)"
   ]
  },
  {
   "cell_type": "code",
   "execution_count": 17,
   "metadata": {},
   "outputs": [],
   "source": [
    "input_file_carrerviet = 'D:\\\\Work\\\\Projects\\\\Intro2DS-ITJobTrendAnalysis\\\\data\\\\raw\\\\11-2024\\\\11_2024_careerviet.csv'\n",
    "output_file_carrerviet = 'D:\\\\Work\\\\Projects\\\\Intro2DS-ITJobTrendAnalysis\\\\data\\\\raw\\\\12-2024\\\\12_2024_careerviet.csv'\n",
    "\n",
    "merged_input_file_careerviet = 'D:\\\\Work\\\\Projects\\\\Intro2DS-ITJobTrendAnalysis\\\\data\\\\raw\\\\merged_file_raw\\\\merged_file_raw_careerviet.csv'"
   ]
  },
  {
   "cell_type": "code",
   "execution_count": 18,
   "metadata": {},
   "outputs": [
    {
     "data": {
      "text/plain": [
       "(              Job Title  Role  Level Years of Experience  \\\n",
       " 0         PHP Developer   NaN    NaN           4 - 6 Năm   \n",
       " 1  Sales B2B - Software   NaN    NaN          Trên 3 Năm   \n",
       " 2   Head of Engineering   NaN    NaN          7 - 10 Năm   \n",
       " 3  Product Manager(Mới)   NaN    NaN           3 - 5 Năm   \n",
       " 4       Product Manager   NaN    NaN                 NaN   \n",
       " \n",
       "                                           Company     Location  \\\n",
       " 0         Công ty TNHH TMDV Sports Turf Solutions  Hồ Chí Minh   \n",
       " 1  CÔNG TY TNHH TƯ VẤN GIẢI PHÁP DOANH NGHIỆP TPC  Hồ Chí Minh   \n",
       " 2                            Indo Trans Logistics  Hồ Chí Minh   \n",
       " 3      UrBox - Công ty Cổ phần Tiếp Thị Số Tô Quà  Hồ Chí Minh   \n",
       " 4                                      CareerViet  Hồ Chí Minh   \n",
       " \n",
       "         Salary Range                                    Required Skills  \\\n",
       " 0  20 Tr - 25 Tr VND  Python, JavaScript, HTML, CSS, PHP, AWS, Larav...   \n",
       " 1  Lên đến 40 Tr VND                                                NaN   \n",
       " 2         Cạnh tranh  .NET, Docker, Kubernetes, AWS, Azure, GCP, Ela...   \n",
       " 3  30 Tr - 50 Tr VND                                                NaN   \n",
       " 4         Cạnh tranh                                                NaN   \n",
       " \n",
       "   Source Platform                                           Job Link  \n",
       " 0      Careerviet  https://careerviet.vn/vi/tim-viec-lam/php-deve...  \n",
       " 1      Careerviet  https://careerviet.vn/vi/tim-viec-lam/sales-b2...  \n",
       " 2      Careerviet  https://careerviet.vn/vi/tim-viec-lam/head-of-...  \n",
       " 3      Careerviet  https://careerviet.vn/vi/tim-viec-lam/product-...  \n",
       " 4      Careerviet  https://careerviet.vn/vi/tim-viec-lam/product-...  ,\n",
       " 1904)"
      ]
     },
     "execution_count": 18,
     "metadata": {},
     "output_type": "execute_result"
    }
   ],
   "source": [
    "# Load the data\n",
    "df_11_crv = pd.read_csv(input_file_carrerviet)\n",
    "df_12_crv = pd.read_csv(output_file_carrerviet)\n",
    "\n",
    "# Concatenate the dataframes\n",
    "merged_df = pd.concat([df_11_crv, df_12_crv], ignore_index=True)\n",
    "\n",
    "# Drop duplicate rows based on all columns\n",
    "unique_df = merged_df.drop_duplicates()\n",
    "\n",
    "# Save the unique rows to the output file\n",
    "unique_df.to_csv(merged_input_file_careerviet, index=False)\n",
    "\n",
    "unique_df.head(), len(unique_df)"
   ]
  }
 ],
 "metadata": {
  "kernelspec": {
   "display_name": "venv",
   "language": "python",
   "name": "python3"
  },
  "language_info": {
   "codemirror_mode": {
    "name": "ipython",
    "version": 3
   },
   "file_extension": ".py",
   "mimetype": "text/x-python",
   "name": "python",
   "nbconvert_exporter": "python",
   "pygments_lexer": "ipython3",
   "version": "3.12.5"
  }
 },
 "nbformat": 4,
 "nbformat_minor": 2
}
