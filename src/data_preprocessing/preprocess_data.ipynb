{
 "cells": [
  {
   "cell_type": "code",
   "execution_count": 4,
   "metadata": {},
   "outputs": [],
   "source": [
    "import pandas as pd\n",
    "import os"
   ]
  },
  {
   "cell_type": "code",
   "execution_count": 2,
   "metadata": {},
   "outputs": [],
   "source": [
    "def load_csv(file_path):\n",
    "    # Load the CSV file and replace NaN with 'N/A'\n",
    "    return pd.read_csv(file_path).fillna('N/A')"
   ]
  },
  {
   "cell_type": "markdown",
   "metadata": {},
   "source": [
    "First, handle normalized the columns for vietnamworks_jobs.csv due to the rearranged column order compared to the documentation."
   ]
  },
  {
   "cell_type": "code",
   "execution_count": 8,
   "metadata": {},
   "outputs": [
    {
     "name": "stdout",
     "output_type": "stream",
     "text": [
      "Vietnamworks data processed successfully and saved to '../../data/processed/processed_vietnamworks_jobs_2024.csv'.\n"
     ]
    }
   ],
   "source": [
    "def process_vietnamworks_data(input_file, output_file):\n",
    "    # Load the CSV file\n",
    "    df = pd.read_csv(input_file)\n",
    "    \n",
    "    # Add a new column 'Job Link' and move the URL to it\n",
    "    if 'Source Platform' in df.columns:\n",
    "        df['Job Link'] = df['Source Platform']\n",
    "    \n",
    "    # Update the 'Source Platform' column to 'Vietnamworks'\n",
    "    df['Source Platform'] = 'Vietnamworks'\n",
    "    \n",
    "    # Save the updated DataFrame to a new CSV file\n",
    "    os.makedirs(os.path.dirname(output_file), exist_ok=True)\n",
    "    df.to_csv(output_file, index=False)\n",
    "    print(f\"Vietnamworks data processed successfully and saved to '{output_file}'.\")\n",
    "\n",
    "# Define input and output file paths\n",
    "input_file = '../../data/raw/vietnamworks_jobs_2024.csv'\n",
    "output_file = '../../data/processed/processed_vietnamworks_jobs_2024.csv'\n",
    "    \n",
    "# Process the Vietnamworks data\n",
    "process_vietnamworks_data(input_file, output_file)"
   ]
  },
  {
   "cell_type": "markdown",
   "metadata": {},
   "source": [
    "Handle merge data job lists into one file .csv"
   ]
  },
  {
   "cell_type": "code",
   "execution_count": 13,
   "metadata": {},
   "outputs": [
    {
     "name": "stdout",
     "output_type": "stream",
     "text": [
      "Files merged successfully into '../../data/processed/IT_jobs_2024.csv'.\n"
     ]
    }
   ],
   "source": [
    "def standardize_columns(df):    \n",
    "    # Reorder columns to the standard structure\n",
    "    common_columns = [\n",
    "        'Job Title', 'Role', 'Level', 'Years of Experience', \n",
    "        'Company', 'Location', 'Salary Range', 'Required Skills', \n",
    "        'Source Platform', 'Job Link'\n",
    "    ]\n",
    "    \n",
    "    # Reindex and replace NaN with 'N/A' if any column doesn't exist in the DataFrame\n",
    "    df = df.reindex(columns=common_columns).fillna('N/A')\n",
    "    return df\n",
    "\n",
    "def merge_csv_files(file_paths, output_path):\n",
    "    # Load and standardize each file\n",
    "    standardized_dfs = []\n",
    "    \n",
    "    for file_path in file_paths:\n",
    "        if 'vietnamworks' in file_path.lower():\n",
    "            df = load_csv(file_path)\n",
    "            standardized_df = standardize_columns(df)\n",
    "        elif 'careerviet' in file_path.lower():\n",
    "            df = load_csv(file_path)\n",
    "            standardized_df = standardize_columns(df)\n",
    "        else:\n",
    "            continue\n",
    "        \n",
    "        standardized_dfs.append(standardized_df)\n",
    "    \n",
    "    # Concatenate all standardized DataFrames\n",
    "    merged_df = pd.concat(standardized_dfs, ignore_index=True)\n",
    "    \n",
    "    # Replace any remaining NaN with 'N/A'\n",
    "    merged_df = merged_df.fillna('N/A')\n",
    "    \n",
    "    # Create the output directory if it doesn't exist\n",
    "    os.makedirs(os.path.dirname(output_path), exist_ok=True)\n",
    "    \n",
    "    # Save the merged DataFrame to CSV\n",
    "    merged_df.to_csv(output_path, index=False)\n",
    "    print(f\"Files merged successfully into '{output_path}'.\")\n",
    "\n",
    "file_paths = [\n",
    "    '../../data/raw/careerviet_jobs_2024.csv',\n",
    "    '../../data/processed/processed_vietnamworks_jobs_2024.csv'\n",
    "]\n",
    "# Define output path\n",
    "output_path = '../../data/processed/IT_jobs_2024.csv'\n",
    "    \n",
    "# Merge files\n",
    "merge_csv_files(file_paths, output_path)"
   ]
  },
  {
   "cell_type": "markdown",
   "metadata": {},
   "source": [
    "Filter the jobs with the skill unmatched to IT careers"
   ]
  },
  {
   "cell_type": "code",
   "execution_count": 15,
   "metadata": {},
   "outputs": [
    {
     "name": "stdout",
     "output_type": "stream",
     "text": [
      "Cleaned data has been saved to '../../data/processed/IT_jobs_2024_cleaned.csv'.\n"
     ]
    }
   ],
   "source": [
    "# Path to the input file\n",
    "input_path = '../../data/processed/IT_jobs_2024.csv'\n",
    "\n",
    "# Load the data\n",
    "df = load_csv(input_path)\n",
    "\n",
    "# Remove rows where 'Required Skills' is 'N/A'\n",
    "df_cleaned = df[df['Required Skills'] != 'N/A']\n",
    "\n",
    "# Output path for the cleaned file\n",
    "output_path = '../../data/processed/IT_jobs_2024_cleaned.csv'\n",
    "\n",
    "# Save the cleaned DataFrame to a new CSV file\n",
    "df_cleaned.to_csv(output_path, index=False)\n",
    "\n",
    "print(f\"Cleaned data has been saved to '{output_path}'.\")\n"
   ]
  }
 ],
 "metadata": {
  "kernelspec": {
   "display_name": "venv",
   "language": "python",
   "name": "python3"
  },
  "language_info": {
   "codemirror_mode": {
    "name": "ipython",
    "version": 3
   },
   "file_extension": ".py",
   "mimetype": "text/x-python",
   "name": "python",
   "nbconvert_exporter": "python",
   "pygments_lexer": "ipython3",
   "version": "3.12.5"
  }
 },
 "nbformat": 4,
 "nbformat_minor": 2
}
