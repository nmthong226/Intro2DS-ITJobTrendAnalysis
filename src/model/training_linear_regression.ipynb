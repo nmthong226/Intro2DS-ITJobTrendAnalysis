{
  "nbformat": 4,
  "nbformat_minor": 0,
  "metadata": {
    "colab": {
      "provenance": []
    },
    "kernelspec": {
      "name": "python3",
      "display_name": "Python 3"
    },
    "language_info": {
      "name": "python"
    }
  },
  "cells": [
    {
      "cell_type": "markdown",
      "source": [
        "**Input Features:**\n",
        "- Years of Experience: The number of years of experience required for the job, which has been processed to be a numeric value.\n",
        "- Role: The job role (e.g., Developer, Senior, Manager). This is one-hot encoded into multiple binary columns, one for each role type.\n",
        "- Additional features (optional): Other features in your dataset can be included, such as the company, job title, etc. But in your current example, only Years of Experience and Role are used for training the model."
      ],
      "metadata": {
        "id": "JYIZBgaipxZO"
      }
    },
    {
      "cell_type": "code",
      "execution_count": null,
      "metadata": {
        "id": "xbx_epZrN52d"
      },
      "outputs": [],
      "source": [
        "import pandas as pd\n",
        "import numpy as np\n",
        "from sklearn.model_selection import train_test_split, GridSearchCV\n",
        "from sklearn.linear_model import LinearRegression\n",
        "from sklearn.preprocessing import OneHotEncoder, PolynomialFeatures\n",
        "from sklearn.compose import ColumnTransformer\n",
        "from sklearn.pipeline import Pipeline\n",
        "from sklearn.impute import SimpleImputer\n",
        "import joblib\n",
        "from sklearn.metrics import mean_squared_error, mean_absolute_error, explained_variance_score, r2_score"
      ]
    },
    {
      "cell_type": "code",
      "source": [
        "# Parsing functions\n",
        "def parse_experience(x):\n",
        "    x = str(x)\n",
        "    if '-' in x:\n",
        "        low, high = x.split('-')\n",
        "        return (float(low) + float(high)) / 2\n",
        "    return float(x)\n",
        "\n",
        "def parse_salary_range(s):\n",
        "    s = str(s).lower().replace('$', '').strip()\n",
        "    if '-' in s:\n",
        "        low, high = s.split('-')\n",
        "        return (float(low) + float(high)) / 2\n",
        "    elif s.isdigit():\n",
        "        return float(s)\n",
        "    else:\n",
        "        return np.nan"
      ],
      "metadata": {
        "id": "Kc6AkxgyXPMb"
      },
      "execution_count": null,
      "outputs": []
    },
    {
      "cell_type": "markdown",
      "source": [
        "1. Load and Combine Data\n",
        "Read CSV Files:\n",
        "df is loaded from merged_data.csv.\n",
        "new_data is loaded from merged_data2.csv.\n",
        "Combine Data:\n",
        "The datasets are concatenated using pd.concat().\n",
        "Invalid rows (where Required Skills is NaN or empty) are removed using combined_data[~combined_data['Required Skills'].isna() & (combined_data['Required Skills'] != '')].\n",
        "2. Data Parsing\n",
        "Parsing Experience: The parse_experience function is applied to extract \"Years of Experience\" from text.\n",
        "Parsing Salary: The parse_salary_range function is applied to compute a numerical salary value from a \"Salary Range\" column.\n",
        "3. Outlier Removal\n",
        "[Q1−1.5×IQR,Q3+1.5×IQR] are considered outliers and removed.\n",
        "4. Handle Missing Values\n",
        "Rows with missing values in Years of Experience or Salary are dropped using dropna().\n",
        "5. Feature Transformation\n",
        "Numeric Features:\n",
        "\n",
        "- Years of Experience undergoes preprocessing:\n",
        "Missing values are filled with the mean (SimpleImputer).\n",
        "Polynomial features are generated with degree 2, creating interaction terms (PolynomialFeatures).\n",
        "Categorical Features:\n",
        "\n",
        "- Role, Level, and Location are preprocessed:\n",
        "Missing values are replaced with the string 'missing'.\n",
        "One-hot encoding is applied to convert categorical variables into binary columns.\n",
        "Preprocessor: A ColumnTransformer is used to apply numeric and categorical transformations.\n",
        "\n",
        "6. Model Pipeline\n",
        "A pipeline is created to:\n",
        "Apply preprocessing (preprocessor).\n",
        "Train a linear regression model (LinearRegression).\n",
        "7. Train-Test Split\n",
        "The combined dataset is split into training (80%) and testing (20%) sets using train_test_split().\n",
        "8. Train and Predict\n",
        "Model Training: The pipeline is fitted on X_train (features) and y_train (target salary).\n",
        "Prediction: Predictions are generated for the test set (X_test).\n",
        "9. Model Evaluation\n",
        "R² Score: The coefficient of determination (\n",
        "𝑅\n",
        "2\n",
        "R\n",
        "2\n",
        " ) is computed to measure model performance, indicating how well the regression predictions fit the data. A higher score implies better performance.\n",
        "Output\n",
        "The updated model's\n",
        "𝑅\n",
        "2\n",
        "R\n",
        "2\n",
        "  score is printed to show the evaluation result of the trained model on the test data."
      ],
      "metadata": {
        "id": "pQFCl3MmmIXM"
      }
    },
    {
      "cell_type": "code",
      "source": [
        "# Load original and new data\n",
        "df = pd.read_csv('/content/merged_data.csv')\n",
        "new_data = pd.read_csv('/content/merged_data2.csv')\n",
        "\n",
        "combined_data = pd.concat([df, new_data], ignore_index=True)\n",
        "combined_data = combined_data[~combined_data['Required Skills'].isna() & (combined_data['Required Skills'] != '')]\n",
        "\n",
        "# Apply the parsing functions\n",
        "combined_data['Years of Experience'] = combined_data['Years of Experience'].apply(parse_experience)\n",
        "combined_data['Salary'] = combined_data['Salary Range'].apply(parse_salary_range)\n",
        "\n",
        "# Remove potential outliers\n",
        "Q1 = combined_data['Salary'].quantile(0.25)\n",
        "Q3 = combined_data['Salary'].quantile(0.75)\n",
        "IQR = Q3 - Q1\n",
        "combined_data = combined_data[\n",
        "    (combined_data['Salary'] >= Q1 - 1.5 * IQR) &\n",
        "    (combined_data['Salary'] <= Q3 + 1.5 * IQR)\n",
        "]\n",
        "\n",
        "# Drop missing values\n",
        "combined_data = combined_data.dropna(subset=['Years of Experience', 'Salary'])\n",
        "\n",
        "# Define numeric and categorical features\n",
        "numeric_features = ['Years of Experience']\n",
        "categorical_features = ['Role', 'Level', 'Location']\n",
        "\n",
        "numeric_transformer = Pipeline(steps=[\n",
        "    ('imputer', SimpleImputer(strategy='mean')),\n",
        "    ('poly', PolynomialFeatures(degree=2, include_bias=False))\n",
        "])\n",
        "\n",
        "categorical_transformer = Pipeline(steps=[\n",
        "    ('imputer', SimpleImputer(strategy='constant', fill_value='missing')),\n",
        "    ('onehot', OneHotEncoder(handle_unknown='ignore'))\n",
        "])\n",
        "\n",
        "preprocessor = ColumnTransformer(\n",
        "    transformers=[\n",
        "        ('num', numeric_transformer, numeric_features),\n",
        "        ('cat', categorical_transformer, categorical_features)\n",
        "    ])\n",
        "\n",
        "pipeline = Pipeline(steps=[\n",
        "    ('preprocessor', preprocessor),\n",
        "    ('regressor', LinearRegression())\n",
        "])\n",
        "\n",
        "# Features and target variable\n",
        "X_combined = combined_data[['Years of Experience', 'Role', 'Level', 'Location']]\n",
        "y_combined = combined_data['Salary']\n",
        "\n",
        "# Train-test split\n",
        "X_train, X_test, y_train, y_test = train_test_split(X_combined, y_combined, test_size=0.2, random_state=42)\n",
        "# Train the model on combined data\n",
        "pipeline.fit(X_train, y_train)\n",
        "\n",
        "prediction = pipeline.predict(X_test)\n",
        "\n",
        "# Evaluate the new model\n",
        "new_score = pipeline.score(X_test, y_test)\n",
        "print(f'Updated Model R^2 Score: {new_score}')"
      ],
      "metadata": {
        "colab": {
          "base_uri": "https://localhost:8080/"
        },
        "id": "Ho9Wr1XrbxHq",
        "outputId": "7b57cf41-3495-46b7-8cf4-35210367db73"
      },
      "execution_count": null,
      "outputs": [
        {
          "output_type": "stream",
          "name": "stdout",
          "text": [
            "Updated Model R^2 Score: 0.23443736592582898\n",
            "Mean Squared Error: 219760.1407563052\n"
          ]
        }
      ]
    },
    {
      "cell_type": "markdown",
      "source": [
        "# Save model to file"
      ],
      "metadata": {
        "id": "sFhwzPhazslU"
      }
    },
    {
      "cell_type": "code",
      "source": [
        "# Save the LinearRegression model\n",
        "joblib.dump(pipeline, 'linear_model.pkl')"
      ],
      "metadata": {
        "colab": {
          "base_uri": "https://localhost:8080/"
        },
        "id": "XmIx7pWToW4x",
        "outputId": "8d5635c3-988f-4ad4-cd91-d7a08f3dee36"
      },
      "execution_count": null,
      "outputs": [
        {
          "output_type": "execute_result",
          "data": {
            "text/plain": [
              "['linear_model.pkl']"
            ]
          },
          "metadata": {},
          "execution_count": 79
        }
      ]
    },
    {
      "cell_type": "markdown",
      "source": [
        "# Calculate Metrics"
      ],
      "metadata": {
        "id": "ZxCa9CNAzq9Y"
      }
    },
    {
      "cell_type": "markdown",
      "source": [
        "- Error Metrics:\n",
        "  + MSE: Average squared prediction error\n",
        "  + MAE: Average absolute prediction error\n",
        "  + RMSE: Square root of MSE, gives error in same units as target variable\n",
        "\n",
        "- Variance Metrics:\n",
        "  + Explained variance: Proportion of variance captured (0-1)\n",
        "  + R²: Proportion of variance explained (-∞ to 1)\n",
        "  + Adjusted R²: R² adjusted for number of predictors"
      ],
      "metadata": {
        "id": "RuSkyxyPp1cV"
      }
    },
    {
      "cell_type": "code",
      "source": [
        "# Calculate metrics\n",
        "\n",
        "# Measures the average squared difference between the predicted values and the actual values.\n",
        "# A lower MSE indicates a better fit of the model to the data.\n",
        "mse = mean_squared_error(y_test, prediction)\n",
        "\n",
        "# Measures the average absolute difference between the predicted and actual values.\n",
        "mae = mean_absolute_error(y_test, prediction)\n",
        "\n",
        "# Square root of the average squared differences between predictions and actual values.\n",
        "rmse = np.sqrt(mse)\n",
        "\n",
        "# Measures the proportion of the variance in the target variable that is captured by the model.\n",
        "# Values range from 0 to 1 (higher is better).\n",
        "explained_variance = explained_variance_score(y_test, prediction)\n",
        "\n",
        "# Measures the proportion of variance in the dependent variable explained by the independent variables.\n",
        "# Ranges from -inf to 1. (1 is perfect)\n",
        "r2 = r2_score(y_test, prediction)\n",
        "\n",
        "# Calculate Adjusted R² to account for the number of predictors in the model.\n",
        "n = X_test.shape[0]  # Number of samples\n",
        "p = X_test.shape[1]  # Number of predictors\n",
        "adjusted_r2 = 1 - (1 - r2) * (n - 1) / (n - p - 1)\n",
        "\n",
        "# Residuals represent the difference between actual and predicted values for each observation.\n",
        "# Helps identify patterns, heteroscedasticity (variance inconsistency), or outliers in the model.\n",
        "residuals = y_test - prediction\n",
        "\n",
        "# Create a dictionary with the evaluation metrics\n",
        "metrics = {\n",
        "    'Metric': ['Mean Squared Error (MSE)', 'Mean Absolute Error (MAE)', 'Root Mean Squared Error (RMSE)',\n",
        "               'Explained Variance Score', 'R² Score', 'Adjusted R² Score'],\n",
        "    'Value': [mse, mae, rmse, explained_variance, r2, adjusted_r2]\n",
        "}\n",
        "\n",
        "# Convert the dictionary to a pandas DataFrame\n",
        "metrics_df = pd.DataFrame(metrics)\n",
        "metrics_df"
      ],
      "metadata": {
        "colab": {
          "base_uri": "https://localhost:8080/",
          "height": 238
        },
        "id": "Kiyw4xPiwcQn",
        "outputId": "9007c5e3-a5d9-465e-d421-3a56e0299836"
      },
      "execution_count": null,
      "outputs": [
        {
          "output_type": "execute_result",
          "data": {
            "text/plain": [
              "                           Metric          Value\n",
              "0        Mean Squared Error (MSE)  219760.140756\n",
              "1       Mean Absolute Error (MAE)     383.318016\n",
              "2  Root Mean Squared Error (RMSE)     468.785815\n",
              "3        Explained Variance Score       0.234583\n",
              "4                        R² Score       0.234437\n",
              "5               Adjusted R² Score       0.213172"
            ],
            "text/html": [
              "\n",
              "  <div id=\"df-38ecebfe-7a53-430d-9562-4879b06c6450\" class=\"colab-df-container\">\n",
              "    <div>\n",
              "<style scoped>\n",
              "    .dataframe tbody tr th:only-of-type {\n",
              "        vertical-align: middle;\n",
              "    }\n",
              "\n",
              "    .dataframe tbody tr th {\n",
              "        vertical-align: top;\n",
              "    }\n",
              "\n",
              "    .dataframe thead th {\n",
              "        text-align: right;\n",
              "    }\n",
              "</style>\n",
              "<table border=\"1\" class=\"dataframe\">\n",
              "  <thead>\n",
              "    <tr style=\"text-align: right;\">\n",
              "      <th></th>\n",
              "      <th>Metric</th>\n",
              "      <th>Value</th>\n",
              "    </tr>\n",
              "  </thead>\n",
              "  <tbody>\n",
              "    <tr>\n",
              "      <th>0</th>\n",
              "      <td>Mean Squared Error (MSE)</td>\n",
              "      <td>219760.140756</td>\n",
              "    </tr>\n",
              "    <tr>\n",
              "      <th>1</th>\n",
              "      <td>Mean Absolute Error (MAE)</td>\n",
              "      <td>383.318016</td>\n",
              "    </tr>\n",
              "    <tr>\n",
              "      <th>2</th>\n",
              "      <td>Root Mean Squared Error (RMSE)</td>\n",
              "      <td>468.785815</td>\n",
              "    </tr>\n",
              "    <tr>\n",
              "      <th>3</th>\n",
              "      <td>Explained Variance Score</td>\n",
              "      <td>0.234583</td>\n",
              "    </tr>\n",
              "    <tr>\n",
              "      <th>4</th>\n",
              "      <td>R² Score</td>\n",
              "      <td>0.234437</td>\n",
              "    </tr>\n",
              "    <tr>\n",
              "      <th>5</th>\n",
              "      <td>Adjusted R² Score</td>\n",
              "      <td>0.213172</td>\n",
              "    </tr>\n",
              "  </tbody>\n",
              "</table>\n",
              "</div>\n",
              "    <div class=\"colab-df-buttons\">\n",
              "\n",
              "  <div class=\"colab-df-container\">\n",
              "    <button class=\"colab-df-convert\" onclick=\"convertToInteractive('df-38ecebfe-7a53-430d-9562-4879b06c6450')\"\n",
              "            title=\"Convert this dataframe to an interactive table.\"\n",
              "            style=\"display:none;\">\n",
              "\n",
              "  <svg xmlns=\"http://www.w3.org/2000/svg\" height=\"24px\" viewBox=\"0 -960 960 960\">\n",
              "    <path d=\"M120-120v-720h720v720H120Zm60-500h600v-160H180v160Zm220 220h160v-160H400v160Zm0 220h160v-160H400v160ZM180-400h160v-160H180v160Zm440 0h160v-160H620v160ZM180-180h160v-160H180v160Zm440 0h160v-160H620v160Z\"/>\n",
              "  </svg>\n",
              "    </button>\n",
              "\n",
              "  <style>\n",
              "    .colab-df-container {\n",
              "      display:flex;\n",
              "      gap: 12px;\n",
              "    }\n",
              "\n",
              "    .colab-df-convert {\n",
              "      background-color: #E8F0FE;\n",
              "      border: none;\n",
              "      border-radius: 50%;\n",
              "      cursor: pointer;\n",
              "      display: none;\n",
              "      fill: #1967D2;\n",
              "      height: 32px;\n",
              "      padding: 0 0 0 0;\n",
              "      width: 32px;\n",
              "    }\n",
              "\n",
              "    .colab-df-convert:hover {\n",
              "      background-color: #E2EBFA;\n",
              "      box-shadow: 0px 1px 2px rgba(60, 64, 67, 0.3), 0px 1px 3px 1px rgba(60, 64, 67, 0.15);\n",
              "      fill: #174EA6;\n",
              "    }\n",
              "\n",
              "    .colab-df-buttons div {\n",
              "      margin-bottom: 4px;\n",
              "    }\n",
              "\n",
              "    [theme=dark] .colab-df-convert {\n",
              "      background-color: #3B4455;\n",
              "      fill: #D2E3FC;\n",
              "    }\n",
              "\n",
              "    [theme=dark] .colab-df-convert:hover {\n",
              "      background-color: #434B5C;\n",
              "      box-shadow: 0px 1px 3px 1px rgba(0, 0, 0, 0.15);\n",
              "      filter: drop-shadow(0px 1px 2px rgba(0, 0, 0, 0.3));\n",
              "      fill: #FFFFFF;\n",
              "    }\n",
              "  </style>\n",
              "\n",
              "    <script>\n",
              "      const buttonEl =\n",
              "        document.querySelector('#df-38ecebfe-7a53-430d-9562-4879b06c6450 button.colab-df-convert');\n",
              "      buttonEl.style.display =\n",
              "        google.colab.kernel.accessAllowed ? 'block' : 'none';\n",
              "\n",
              "      async function convertToInteractive(key) {\n",
              "        const element = document.querySelector('#df-38ecebfe-7a53-430d-9562-4879b06c6450');\n",
              "        const dataTable =\n",
              "          await google.colab.kernel.invokeFunction('convertToInteractive',\n",
              "                                                    [key], {});\n",
              "        if (!dataTable) return;\n",
              "\n",
              "        const docLinkHtml = 'Like what you see? Visit the ' +\n",
              "          '<a target=\"_blank\" href=https://colab.research.google.com/notebooks/data_table.ipynb>data table notebook</a>'\n",
              "          + ' to learn more about interactive tables.';\n",
              "        element.innerHTML = '';\n",
              "        dataTable['output_type'] = 'display_data';\n",
              "        await google.colab.output.renderOutput(dataTable, element);\n",
              "        const docLink = document.createElement('div');\n",
              "        docLink.innerHTML = docLinkHtml;\n",
              "        element.appendChild(docLink);\n",
              "      }\n",
              "    </script>\n",
              "  </div>\n",
              "\n",
              "\n",
              "<div id=\"df-1e691eea-3607-434d-9ae8-2dfbd4c98964\">\n",
              "  <button class=\"colab-df-quickchart\" onclick=\"quickchart('df-1e691eea-3607-434d-9ae8-2dfbd4c98964')\"\n",
              "            title=\"Suggest charts\"\n",
              "            style=\"display:none;\">\n",
              "\n",
              "<svg xmlns=\"http://www.w3.org/2000/svg\" height=\"24px\"viewBox=\"0 0 24 24\"\n",
              "     width=\"24px\">\n",
              "    <g>\n",
              "        <path d=\"M19 3H5c-1.1 0-2 .9-2 2v14c0 1.1.9 2 2 2h14c1.1 0 2-.9 2-2V5c0-1.1-.9-2-2-2zM9 17H7v-7h2v7zm4 0h-2V7h2v10zm4 0h-2v-4h2v4z\"/>\n",
              "    </g>\n",
              "</svg>\n",
              "  </button>\n",
              "\n",
              "<style>\n",
              "  .colab-df-quickchart {\n",
              "      --bg-color: #E8F0FE;\n",
              "      --fill-color: #1967D2;\n",
              "      --hover-bg-color: #E2EBFA;\n",
              "      --hover-fill-color: #174EA6;\n",
              "      --disabled-fill-color: #AAA;\n",
              "      --disabled-bg-color: #DDD;\n",
              "  }\n",
              "\n",
              "  [theme=dark] .colab-df-quickchart {\n",
              "      --bg-color: #3B4455;\n",
              "      --fill-color: #D2E3FC;\n",
              "      --hover-bg-color: #434B5C;\n",
              "      --hover-fill-color: #FFFFFF;\n",
              "      --disabled-bg-color: #3B4455;\n",
              "      --disabled-fill-color: #666;\n",
              "  }\n",
              "\n",
              "  .colab-df-quickchart {\n",
              "    background-color: var(--bg-color);\n",
              "    border: none;\n",
              "    border-radius: 50%;\n",
              "    cursor: pointer;\n",
              "    display: none;\n",
              "    fill: var(--fill-color);\n",
              "    height: 32px;\n",
              "    padding: 0;\n",
              "    width: 32px;\n",
              "  }\n",
              "\n",
              "  .colab-df-quickchart:hover {\n",
              "    background-color: var(--hover-bg-color);\n",
              "    box-shadow: 0 1px 2px rgba(60, 64, 67, 0.3), 0 1px 3px 1px rgba(60, 64, 67, 0.15);\n",
              "    fill: var(--button-hover-fill-color);\n",
              "  }\n",
              "\n",
              "  .colab-df-quickchart-complete:disabled,\n",
              "  .colab-df-quickchart-complete:disabled:hover {\n",
              "    background-color: var(--disabled-bg-color);\n",
              "    fill: var(--disabled-fill-color);\n",
              "    box-shadow: none;\n",
              "  }\n",
              "\n",
              "  .colab-df-spinner {\n",
              "    border: 2px solid var(--fill-color);\n",
              "    border-color: transparent;\n",
              "    border-bottom-color: var(--fill-color);\n",
              "    animation:\n",
              "      spin 1s steps(1) infinite;\n",
              "  }\n",
              "\n",
              "  @keyframes spin {\n",
              "    0% {\n",
              "      border-color: transparent;\n",
              "      border-bottom-color: var(--fill-color);\n",
              "      border-left-color: var(--fill-color);\n",
              "    }\n",
              "    20% {\n",
              "      border-color: transparent;\n",
              "      border-left-color: var(--fill-color);\n",
              "      border-top-color: var(--fill-color);\n",
              "    }\n",
              "    30% {\n",
              "      border-color: transparent;\n",
              "      border-left-color: var(--fill-color);\n",
              "      border-top-color: var(--fill-color);\n",
              "      border-right-color: var(--fill-color);\n",
              "    }\n",
              "    40% {\n",
              "      border-color: transparent;\n",
              "      border-right-color: var(--fill-color);\n",
              "      border-top-color: var(--fill-color);\n",
              "    }\n",
              "    60% {\n",
              "      border-color: transparent;\n",
              "      border-right-color: var(--fill-color);\n",
              "    }\n",
              "    80% {\n",
              "      border-color: transparent;\n",
              "      border-right-color: var(--fill-color);\n",
              "      border-bottom-color: var(--fill-color);\n",
              "    }\n",
              "    90% {\n",
              "      border-color: transparent;\n",
              "      border-bottom-color: var(--fill-color);\n",
              "    }\n",
              "  }\n",
              "</style>\n",
              "\n",
              "  <script>\n",
              "    async function quickchart(key) {\n",
              "      const quickchartButtonEl =\n",
              "        document.querySelector('#' + key + ' button');\n",
              "      quickchartButtonEl.disabled = true;  // To prevent multiple clicks.\n",
              "      quickchartButtonEl.classList.add('colab-df-spinner');\n",
              "      try {\n",
              "        const charts = await google.colab.kernel.invokeFunction(\n",
              "            'suggestCharts', [key], {});\n",
              "      } catch (error) {\n",
              "        console.error('Error during call to suggestCharts:', error);\n",
              "      }\n",
              "      quickchartButtonEl.classList.remove('colab-df-spinner');\n",
              "      quickchartButtonEl.classList.add('colab-df-quickchart-complete');\n",
              "    }\n",
              "    (() => {\n",
              "      let quickchartButtonEl =\n",
              "        document.querySelector('#df-1e691eea-3607-434d-9ae8-2dfbd4c98964 button');\n",
              "      quickchartButtonEl.style.display =\n",
              "        google.colab.kernel.accessAllowed ? 'block' : 'none';\n",
              "    })();\n",
              "  </script>\n",
              "</div>\n",
              "\n",
              "  <div id=\"id_cfbb8dcf-5da9-477b-a2ff-d059c07997fe\">\n",
              "    <style>\n",
              "      .colab-df-generate {\n",
              "        background-color: #E8F0FE;\n",
              "        border: none;\n",
              "        border-radius: 50%;\n",
              "        cursor: pointer;\n",
              "        display: none;\n",
              "        fill: #1967D2;\n",
              "        height: 32px;\n",
              "        padding: 0 0 0 0;\n",
              "        width: 32px;\n",
              "      }\n",
              "\n",
              "      .colab-df-generate:hover {\n",
              "        background-color: #E2EBFA;\n",
              "        box-shadow: 0px 1px 2px rgba(60, 64, 67, 0.3), 0px 1px 3px 1px rgba(60, 64, 67, 0.15);\n",
              "        fill: #174EA6;\n",
              "      }\n",
              "\n",
              "      [theme=dark] .colab-df-generate {\n",
              "        background-color: #3B4455;\n",
              "        fill: #D2E3FC;\n",
              "      }\n",
              "\n",
              "      [theme=dark] .colab-df-generate:hover {\n",
              "        background-color: #434B5C;\n",
              "        box-shadow: 0px 1px 3px 1px rgba(0, 0, 0, 0.15);\n",
              "        filter: drop-shadow(0px 1px 2px rgba(0, 0, 0, 0.3));\n",
              "        fill: #FFFFFF;\n",
              "      }\n",
              "    </style>\n",
              "    <button class=\"colab-df-generate\" onclick=\"generateWithVariable('metrics_df')\"\n",
              "            title=\"Generate code using this dataframe.\"\n",
              "            style=\"display:none;\">\n",
              "\n",
              "  <svg xmlns=\"http://www.w3.org/2000/svg\" height=\"24px\"viewBox=\"0 0 24 24\"\n",
              "       width=\"24px\">\n",
              "    <path d=\"M7,19H8.4L18.45,9,17,7.55,7,17.6ZM5,21V16.75L18.45,3.32a2,2,0,0,1,2.83,0l1.4,1.43a1.91,1.91,0,0,1,.58,1.4,1.91,1.91,0,0,1-.58,1.4L9.25,21ZM18.45,9,17,7.55Zm-12,3A5.31,5.31,0,0,0,4.9,8.1,5.31,5.31,0,0,0,1,6.5,5.31,5.31,0,0,0,4.9,4.9,5.31,5.31,0,0,0,6.5,1,5.31,5.31,0,0,0,8.1,4.9,5.31,5.31,0,0,0,12,6.5,5.46,5.46,0,0,0,6.5,12Z\"/>\n",
              "  </svg>\n",
              "    </button>\n",
              "    <script>\n",
              "      (() => {\n",
              "      const buttonEl =\n",
              "        document.querySelector('#id_cfbb8dcf-5da9-477b-a2ff-d059c07997fe button.colab-df-generate');\n",
              "      buttonEl.style.display =\n",
              "        google.colab.kernel.accessAllowed ? 'block' : 'none';\n",
              "\n",
              "      buttonEl.onclick = () => {\n",
              "        google.colab.notebook.generateWithVariable('metrics_df');\n",
              "      }\n",
              "      })();\n",
              "    </script>\n",
              "  </div>\n",
              "\n",
              "    </div>\n",
              "  </div>\n"
            ],
            "application/vnd.google.colaboratory.intrinsic+json": {
              "type": "dataframe",
              "variable_name": "metrics_df",
              "summary": "{\n  \"name\": \"metrics_df\",\n  \"rows\": 6,\n  \"fields\": [\n    {\n      \"column\": \"Metric\",\n      \"properties\": {\n        \"dtype\": \"string\",\n        \"num_unique_values\": 6,\n        \"samples\": [\n          \"Mean Squared Error (MSE)\",\n          \"Mean Absolute Error (MAE)\",\n          \"Adjusted R\\u00b2 Score\"\n        ],\n        \"semantic_type\": \"\",\n        \"description\": \"\"\n      }\n    },\n    {\n      \"column\": \"Value\",\n      \"properties\": {\n        \"dtype\": \"number\",\n        \"std\": 89647.31888293236,\n        \"min\": 0.21317173720154647,\n        \"max\": 219760.1407563052,\n        \"num_unique_values\": 6,\n        \"samples\": [\n          219760.1407563052,\n          383.31801640041425,\n          0.21317173720154647\n        ],\n        \"semantic_type\": \"\",\n        \"description\": \"\"\n      }\n    }\n  ]\n}"
            }
          },
          "metadata": {},
          "execution_count": 100
        }
      ]
    },
    {
      "cell_type": "markdown",
      "source": [
        "# Visualize them"
      ],
      "metadata": {
        "id": "jcf5j7oVzvhi"
      }
    },
    {
      "cell_type": "code",
      "source": [
        "import matplotlib.pyplot as plt\n",
        "import seaborn as sns\n",
        "\n",
        "# Plotting the residuals\n",
        "plt.figure(figsize=(10, 6))\n",
        "\n",
        "# Residuals plot\n",
        "plt.subplot(1, 2, 1)\n",
        "sns.histplot(residuals, kde=True, color='blue', bins=10)\n",
        "plt.title('Residuals Distribution')\n",
        "plt.xlabel('Residuals')\n",
        "plt.ylabel('Frequency')\n",
        "\n",
        "# Scatter plot for predicted vs actual\n",
        "plt.subplot(1, 2, 2)\n",
        "plt.scatter(y_test, prediction, color='green', alpha=0.7)\n",
        "plt.plot([y_test.min(), y_test.max()], [y_test.min(), y_test.max()], '--r', linewidth=2)\n",
        "plt.title('Predicted vs Actual')\n",
        "plt.xlabel('Actual')\n",
        "plt.ylabel('Predicted')\n",
        "\n",
        "# Show plots\n",
        "plt.tight_layout()\n",
        "plt.show()"
      ],
      "metadata": {
        "colab": {
          "base_uri": "https://localhost:8080/",
          "height": 607
        },
        "id": "w0dkepV8zmKx",
        "outputId": "f82006d7-ab19-4cce-f797-0997a9d1918c"
      },
      "execution_count": null,
      "outputs": [
        {
          "output_type": "display_data",
          "data": {
            "text/plain": [
              "<Figure size 1000x600 with 2 Axes>"
            ],
            "image/png": "[encoded data removed]"
          },
          "metadata": {}
        }
      ]
    },
    {
      "cell_type": "markdown",
      "source": [
        "# Generate data"
      ],
      "metadata": {
        "id": "34vIfOhDzw6h"
      }
    },
    {
      "cell_type": "markdown",
      "source": [
        "- Data Structure:\n",
        "  + Creates 150 total records (50 each for Junior/Intermediate/Senior)\n",
        "  + Fields: Years of Experience, Role, Level, Required Skills, Location\n",
        "\n",
        "- Key Components:\n",
        "  + Experience ranges: Junior (1-2 years), Intermediate (3-5), Senior (5-15)\n",
        "  + Roles: Data Engineer and Software Engineer\n",
        "  + Predefined skill sets for each role/level combination\n",
        "  + Locations: 5 major Vietnamese cities\n",
        "\n",
        "- Data Generation Process:\n",
        "  + Creates separate DataFrames for each level\n",
        "  + Assigns random skills based on role/level\n",
        "  + Randomly assigns Vietnamese cities\n",
        "  + Combines all data into final_data DataFrame"
      ],
      "metadata": {
        "id": "ZrXh4cbcncpo"
      }
    },
    {
      "cell_type": "code",
      "source": [
        "import numpy as np\n",
        "\n",
        "# Define the categories for 'Role' and 'Level'\n",
        "levels = ['Junior', 'Intermediate', 'Senior']\n",
        "\n",
        "# Generate random data\n",
        "num_samples = 50  # Number of samples per level\n",
        "\n",
        "# Create data for each level\n",
        "junior_data = {\n",
        "    'Years of Experience': np.random.randint(1, 2, num_samples),\n",
        "    'Role': 'data engineer',\n",
        "    'Level': 'Junior'\n",
        "}\n",
        "\n",
        "intermediate_data = {\n",
        "    'Years of Experience': np.random.randint(3, 5, num_samples),\n",
        "    'Role': 'software engineer',\n",
        "    'Level': 'Intermediate'\n",
        "}\n",
        "\n",
        "senior_data = {\n",
        "    'Years of Experience': np.random.randint(5, 15, num_samples),\n",
        "    'Role': 'data engineer',\n",
        "    'Level': 'Senior'\n",
        "}\n",
        "\n",
        "import random\n",
        "\n",
        "# Define skills for each role and level\n",
        "skills_dict = {\n",
        "    'data engineer': {\n",
        "        'Junior': ['SQL', 'Python', 'Data Wrangling', 'Basic ETL', 'Data Analysis'],\n",
        "        'Intermediate': ['Apache Spark', 'AWS', 'Data Pipelines', 'ETL', 'Data Modeling'],\n",
        "        'Senior': ['Big Data', 'Cloud Architecture', 'Advanced ETL', 'Data Warehousing', 'System Design']\n",
        "    },\n",
        "    'software engineer': {\n",
        "        'Junior': ['JavaScript', 'HTML', 'CSS', 'Python', 'Basic Web Development'],\n",
        "        'Intermediate': ['React', 'Node.js', 'Full-Stack Development', 'REST APIs', 'Database Management'],\n",
        "        'Senior': ['Microservices', 'System Design', 'DevOps', 'Cloud Computing', 'Distributed Systems']\n",
        "    }\n",
        "}\n",
        "\n",
        "# Function to generate random skills for each sample based on role and level\n",
        "def generate_skills(row):\n",
        "    role = row['Role']\n",
        "    level = row['Level']\n",
        "    skills = skills_dict.get(role, {}).get(level, [])\n",
        "    # Randomly select a subset of skills (up to 5 skills)\n",
        "    return ', '.join(random.sample(skills, k=min(5, len(skills))))\n",
        "\n",
        "# Define Vietnamese cities\n",
        "vietnamese_cities = [\n",
        "    'Hà Nội', 'Hồ Chí Minh', 'Đà Nẵng', 'Hải Phòng', 'Cần Thơ'\n",
        "]\n",
        "\n",
        "# Function to assign a random Vietnamese city\n",
        "def assign_city():\n",
        "    return random.choice(vietnamese_cities)\n",
        "\n",
        "# Create DataFrames for each level\n",
        "junior_df = pd.DataFrame(junior_data)\n",
        "intermediate_df = pd.DataFrame(intermediate_data)\n",
        "senior_df = pd.DataFrame(senior_data)\n",
        "\n",
        "# Concatenate DataFrames\n",
        "final_data = pd.concat([junior_df, intermediate_df, senior_df], ignore_index=True)\n",
        "\n",
        "# Apply the function to generate required skills\n",
        "final_data['Required Skills'] = final_data.apply(generate_skills, axis=1)\n",
        "\n",
        "# Assign random Vietnamese cities to the 'Location' column\n",
        "final_data['Location'] = final_data.apply(lambda _: assign_city(), axis=1)\n",
        "\n",
        "# Display first few rows\n",
        "print(final_data.head())"
      ],
      "metadata": {
        "colab": {
          "base_uri": "https://localhost:8080/"
        },
        "id": "7oqbvJhTrD1G",
        "outputId": "3442e97f-d159-48f5-b629-51efefddbd8b"
      },
      "execution_count": null,
      "outputs": [
        {
          "output_type": "stream",
          "name": "stdout",
          "text": [
            "   Years of Experience           Role   Level  \\\n",
            "0                    1  data engineer  Junior   \n",
            "1                    1  data engineer  Junior   \n",
            "2                    1  data engineer  Junior   \n",
            "3                    1  data engineer  Junior   \n",
            "4                    1  data engineer  Junior   \n",
            "\n",
            "                                     Required Skills   Location  \n",
            "0  Basic ETL, Python, Data Wrangling, Data Analys...  Hải Phòng  \n",
            "1  Data Analysis, Basic ETL, SQL, Python, Data Wr...    Đà Nẵng  \n",
            "2  SQL, Data Analysis, Python, Data Wrangling, Ba...  Hải Phòng  \n",
            "3  SQL, Data Analysis, Data Wrangling, Basic ETL,...    Cần Thơ  \n",
            "4  Data Analysis, Basic ETL, Data Wrangling, SQL,...     Hà Nội  \n"
          ]
        }
      ]
    },
    {
      "cell_type": "markdown",
      "source": [
        "# Test on data"
      ],
      "metadata": {
        "id": "vTtTMzqszzR4"
      }
    },
    {
      "cell_type": "code",
      "source": [
        "# Predict salaries using the trained model\n",
        "predictions = pipeline.predict(final_data)\n",
        "\n",
        "# Add the predicted salaries to the new data\n",
        "final_data['Predicted Salary'] = predictions\n",
        "final_data.to_csv(\"predicted.csv\")"
      ],
      "metadata": {
        "id": "63ODKCybrK7P"
      },
      "execution_count": null,
      "outputs": []
    },
    {
      "cell_type": "markdown",
      "source": [
        "# Use Model"
      ],
      "metadata": {
        "id": "-y_zncmV00tz"
      }
    },
    {
      "cell_type": "markdown",
      "source": [
        "## Load model REMEMBER TO CHANGE PATH"
      ],
      "metadata": {
        "id": "xy9svfbp02MS"
      }
    },
    {
      "cell_type": "code",
      "source": [
        "import joblib\n",
        "\n",
        "# Load the trained RandomForestRegressor model\n",
        "model = joblib.load('/content/linear_model.pkl') #"
      ],
      "metadata": {
        "id": "wYBHa9OB02fi"
      },
      "execution_count": null,
      "outputs": []
    },
    {
      "cell_type": "markdown",
      "source": [
        "## Predict"
      ],
      "metadata": {
        "id": "YIpCFN-B04UZ"
      }
    },
    {
      "cell_type": "code",
      "source": [
        "predictions = model.predict(final_data)\n",
        "# Show the predictions\n",
        "print(\"Predictions for new data:\", predictions)"
      ],
      "metadata": {
        "colab": {
          "base_uri": "https://localhost:8080/"
        },
        "id": "T1XI4WWX025m",
        "outputId": "3ab20647-fed7-48cf-a71c-3aacc0766cde"
      },
      "execution_count": null,
      "outputs": [
        {
          "output_type": "stream",
          "name": "stdout",
          "text": [
            "Predictions for new data: [1055.72995497 1052.11384061 1055.72995497 1055.72995497 1079.29349887\n",
            " 1055.72995497 1052.11384061 1052.11384061 1055.72995497 1060.41092142\n",
            " 1052.11384061 1052.11384061 1060.41092142 1060.41092142 1055.72995497\n",
            " 1079.29349887 1052.11384061 1060.41092142 1052.11384061 1055.72995497\n",
            " 1079.29349887 1052.11384061 1079.29349887 1052.11384061 1052.11384061\n",
            " 1055.72995497 1055.72995497 1079.29349887 1055.72995497 1079.29349887\n",
            " 1055.72995497 1079.29349887 1055.72995497 1060.41092142 1060.41092142\n",
            " 1052.11384061 1055.72995497 1079.29349887 1060.41092142 1055.72995497\n",
            " 1052.11384061 1055.72995497 1052.11384061 1060.41092142 1055.72995497\n",
            " 1079.29349887 1060.41092142 1079.29349887 1055.72995497 1079.29349887\n",
            " 1175.28703035 1115.08722593 1096.20464848 1115.08722593 1175.28703035\n",
            " 1175.28703035 1096.20464848 1175.28703035 1175.28703035 1087.90756767\n",
            " 1171.670916   1179.96799681 1175.28703035 1115.08722593 1091.52368203\n",
            " 1171.670916   1087.90756767 1115.08722593 1175.28703035 1198.85057425\n",
            " 1096.20464848 1115.08722593 1115.08722593 1087.90756767 1096.20464848\n",
            " 1198.85057425 1096.20464848 1179.96799681 1091.52368203 1179.96799681\n",
            " 1091.52368203 1171.670916   1091.52368203 1091.52368203 1198.85057425\n",
            " 1087.90756767 1175.28703035 1091.52368203 1171.670916   1091.52368203\n",
            " 1171.670916   1091.52368203 1175.28703035 1175.28703035 1087.90756767\n",
            " 1198.85057425 1115.08722593 1179.96799681 1087.90756767 1175.28703035\n",
            " 1661.17832061 1896.93388107 2158.65866561 2162.27477997 1642.29574316\n",
            " 2073.15872539 1642.29574316 1552.51325182 2158.65866561 2338.89803962\n",
            " 1989.39272554 2256.74088929 1901.61484752 1901.61484752 2166.95574642\n",
            " 2366.07769788 1637.61477671 1633.99866236 1901.61484752 1809.82509133\n",
            " 2342.51415398 1637.61477671 1576.07679572 1814.50605779 2338.89803962\n",
            " 1637.61477671 2252.05992283 1633.99866236 2158.65866561 1552.51325182\n",
            " 2248.44380848 2158.65866561 2342.51415398 2077.83969184 1893.31776672\n",
            " 2342.51415398 1896.93388107 1552.51325182 2162.27477997 2008.27530298\n",
            " 2248.44380848 2077.83969184 2096.72226928 2342.51415398 1896.93388107\n",
            " 1896.93388107 1833.38863523 1552.51325182 1981.09564473 1642.29574316]\n"
          ]
        }
      ]
    }
  ]
}