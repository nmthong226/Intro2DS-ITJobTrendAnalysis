{
  "cells": [
    {
      "cell_type": "markdown",
      "metadata": {
        "id": "2iPgBX_ib_Ya"
      },
      "source": [
        "**Input Features:**\n",
        "- Years of Experience: The number of years of experience required for the job, which has been processed to be a numeric value.\n",
        "- Role: The job role (e.g., Developer, Senior, Manager). This is one-hot encoded into multiple binary columns, one for each role type.\n",
        "- Additional features (optional): Other features in your dataset can be included, such as the company, job title, etc. But in your current example, only Years of Experience and Role are used for training the model."
      ]
    },
    {
      "cell_type": "code",
      "source": [
        "import pandas as pd\n",
        "import numpy as np\n",
        "from sklearn.ensemble import RandomForestRegressor\n",
        "from sklearn.model_selection import train_test_split, GridSearchCV\n",
        "from sklearn.pipeline import Pipeline\n",
        "from sklearn.compose import ColumnTransformer\n",
        "from sklearn.preprocessing import OneHotEncoder\n",
        "from sklearn.impute import SimpleImputer\n",
        "from sklearn.metrics import mean_squared_error\n",
        "from sklearn.feature_extraction.text import CountVectorizer\n",
        "from sklearn.metrics import mean_squared_error, mean_absolute_error, explained_variance_score, r2_score"
      ],
      "metadata": {
        "id": "EXibohqOXqEP"
      },
      "execution_count": null,
      "outputs": []
    },
    {
      "cell_type": "markdown",
      "source": [
        "1. Load and Combine Data\n",
        "Read CSV Files:\n",
        "df is loaded from merged_data.csv.\n",
        "new_data is loaded from merged_data2.csv.\n",
        "Combine Data:\n",
        "The datasets are concatenated using pd.concat().\n",
        "Invalid rows (where Required Skills is NaN or empty) are removed using combined_data[~combined_data['Required Skills'].isna() & (combined_data['Required Skills'] != '')].\n",
        "2. Data Parsing\n",
        "Parsing Experience: The parse_experience function is applied to extract \"Years of Experience\" from text.\n",
        "Parsing Salary: The parse_salary_range function is applied to compute a numerical salary value from a \"Salary Range\" column.\n",
        "3. Outlier Removal\n",
        "[Q1−1.5×IQR,Q3+1.5×IQR] are considered outliers and removed.\n",
        "4. Handle Missing Values\n",
        "Rows with missing values in Years of Experience or Salary are dropped using dropna().\n",
        "5. Feature Transformation\n",
        "Numeric Features:\n",
        "\n",
        "- Years of Experience undergoes preprocessing:\n",
        "Missing values are filled with the mean (SimpleImputer).\n",
        "Polynomial features are generated with degree 2, creating interaction terms (PolynomialFeatures).\n",
        "Categorical Features:\n",
        "\n",
        "- Role, Level, and Location are preprocessed:\n",
        "Missing values are replaced with the string 'missing'.\n",
        "One-hot encoding is applied to convert categorical variables into binary columns.\n",
        "Preprocessor: A ColumnTransformer is used to apply numeric and categorical transformations.\n",
        "\n",
        "6. Model Pipeline\n",
        "A pipeline is created to:\n",
        "Apply preprocessing (preprocessor).\n",
        "Train a linear regression model (LinearRegression).\n",
        "7. Train-Test Split\n",
        "The combined dataset is split into training (80%) and testing (20%) sets using train_test_split().\n",
        "8. Train and Predict\n",
        "Model Training: The pipeline is fitted on X_train (features) and y_train (target salary).\n",
        "Prediction: Predictions are generated for the test set (X_test).\n",
        "9. Model Evaluation\n",
        "R² Score: The coefficient of determination (\n",
        "𝑅\n",
        "2\n",
        "R\n",
        "2\n",
        " ) is computed to measure model performance, indicating how well the regression predictions fit the data. A higher score implies better performance.\n",
        "Output\n",
        "The updated model's\n",
        "𝑅\n",
        "2\n",
        "R\n",
        "2\n",
        "  score is printed to show the evaluation result of the trained model on the test data."
      ],
      "metadata": {
        "id": "jq43_sRCmhd0"
      }
    },
    {
      "cell_type": "code",
      "execution_count": null,
      "metadata": {
        "colab": {
          "base_uri": "https://localhost:8080/"
        },
        "id": "nZmddFOulrg2",
        "outputId": "3b9487d5-fb8a-4ba4-b7b0-c2556a05c6b2"
      },
      "outputs": [
        {
          "output_type": "stream",
          "name": "stderr",
          "text": [
            "/usr/local/lib/python3.10/dist-packages/sklearn/feature_extraction/text.py:517: UserWarning: The parameter 'token_pattern' will not be used since 'tokenizer' is not None'\n",
            "  warnings.warn(\n"
          ]
        },
        {
          "output_type": "stream",
          "name": "stdout",
          "text": [
            "Best Parameters: {'regressor__max_depth': None, 'regressor__min_samples_leaf': 1, 'regressor__min_samples_split': 2, 'regressor__n_estimators': 500}\n",
            "Model R^2 Score: 0.7609695747641514\n",
            "Predictions: [ 690.5242542   752.04997     927.48429    1651.22261     536.40491967]\n"
          ]
        }
      ],
      "source": [
        "# Parsing functions\n",
        "def parse_experience(x):\n",
        "    x = str(x)\n",
        "    if '-' in x:\n",
        "        low, high = x.split('-')\n",
        "        return (float(low) + float(high)) / 2\n",
        "    return float(x)\n",
        "\n",
        "def parse_salary_range(s):\n",
        "    s = str(s).lower().replace('$', '').strip()\n",
        "    if '-' in s:\n",
        "        low, high = s.split('-')\n",
        "        return (float(low) + float(high)) / 2\n",
        "    elif s.isdigit():\n",
        "        return float(s)\n",
        "    else:\n",
        "        return np.nan\n",
        "\n",
        "# Load original and new data\n",
        "df = pd.read_csv('/content/merged_data.csv')\n",
        "new_data = pd.read_csv('/content/merged_data2.csv')\n",
        "\n",
        "combined_data = pd.concat([df, new_data], ignore_index=True)\n",
        "combined_data = combined_data[~combined_data['Required Skills'].isna() & (combined_data['Required Skills'] != '')]\n",
        "\n",
        "\n",
        "# combined_data = combined_data.drop_duplicates()\n",
        "combined_data.to_csv('drop_duplicated.csv')\n",
        "\n",
        "# Apply the parsing functions\n",
        "combined_data['Years of Experience'] = combined_data['Years of Experience'].apply(parse_experience)\n",
        "combined_data['Salary'] = combined_data['Salary Range'].apply(parse_salary_range)\n",
        "\n",
        "# Remove potential outliers\n",
        "Q1 = combined_data['Salary'].quantile(0.25)\n",
        "Q3 = combined_data['Salary'].quantile(0.75)\n",
        "IQR = Q3 - Q1\n",
        "combined_data = combined_data[\n",
        "    (combined_data['Salary'] >= Q1 - 1.5 * IQR) &\n",
        "    (combined_data['Salary'] <= Q3 + 1.5 * IQR)\n",
        "]\n",
        "\n",
        "# Drop missing values\n",
        "combined_data = combined_data.dropna(subset=['Years of Experience', 'Salary'])\n",
        "\n",
        "# Define numeric and categorical features\n",
        "numeric_features = ['Years of Experience']\n",
        "categorical_features = ['Role', 'Level', 'Location']\n",
        "\n",
        "# Preprocessing steps\n",
        "numeric_transformer = SimpleImputer(strategy='mean')\n",
        "categorical_transformer = Pipeline(steps=[\n",
        "    ('imputer', SimpleImputer(strategy='constant', fill_value='missing')),\n",
        "    ('onehot', OneHotEncoder(handle_unknown='ignore'))\n",
        "])\n",
        "\n",
        "def tokenize_required_skills(x):\n",
        "    return x.split(',')\n",
        "\n",
        "# Preprocess Required Skills\n",
        "required_skills_transformer = Pipeline(steps=[\n",
        "    ('vectorizer', CountVectorizer(tokenizer=tokenize_required_skills, lowercase=True))\n",
        "])\n",
        "\n",
        "# Update the ColumnTransformer\n",
        "preprocessor = ColumnTransformer(\n",
        "    transformers=[\n",
        "        ('num', numeric_transformer, numeric_features),\n",
        "        ('cat', categorical_transformer, categorical_features),\n",
        "        ('skills', required_skills_transformer, 'Required Skills')  # Add this line\n",
        "    ])\n",
        "\n",
        "# Define the pipeline\n",
        "pipeline = Pipeline(steps=[\n",
        "    ('preprocessor', preprocessor),\n",
        "    ('regressor', RandomForestRegressor(random_state=42))\n",
        "])\n",
        "\n",
        "# Features and target variable\n",
        "X_combined = combined_data[['Years of Experience', 'Role', 'Level', 'Location', 'Required Skills']]\n",
        "y_combined = combined_data['Salary']\n",
        "\n",
        "# Train-test split\n",
        "X_train, X_test, y_train, y_test = train_test_split(X_combined, y_combined, test_size=0.2, random_state=42)\n",
        "# Define parameter grid for GridSearchCV\n",
        "param_grid = {\n",
        "    'regressor__n_estimators': [400, 500, 600],\n",
        "    'regressor__max_depth': [5, 20, None],\n",
        "    'regressor__min_samples_split': [2, 5, 8],\n",
        "    'regressor__min_samples_leaf': [1, 2, 4],\n",
        "}\n",
        "\n",
        "# Use the pipeline with the preprocessor and the regressor\n",
        "grid_search = GridSearchCV(pipeline, param_grid, cv=5, scoring='neg_mean_squared_error', n_jobs=-1)\n",
        "\n",
        "# Fit the GridSearchCV to the training data\n",
        "grid_search.fit(X_train, y_train)\n",
        "\n",
        "# Best parameters and estimator\n",
        "print(f'Best Parameters: {grid_search.best_params_}')\n",
        "best_model = grid_search.best_estimator_\n",
        "\n",
        "# Evaluate the best model\n",
        "score = best_model.score(X_test, y_test)\n",
        "print(f'Model R^2 Score: {score}')\n",
        "\n",
        "# Test predictions\n",
        "predictions = best_model.predict(X_test)\n",
        "print(\"Predictions:\", predictions[:5])"
      ]
    },
    {
      "cell_type": "markdown",
      "source": [
        "# Calculate Metrics"
      ],
      "metadata": {
        "id": "evi6lGeq0sYO"
      }
    },
    {
      "cell_type": "markdown",
      "source": [
        "- Error Metrics:\n",
        "  + MSE: Average squared prediction error\n",
        "  + MAE: Average absolute prediction error\n",
        "  + RMSE: Square root of MSE, gives error in same units as target variable\n",
        "\n",
        "- Variance Metrics:\n",
        "  + Explained variance: Proportion of variance captured (0-1)\n",
        "  + R²: Proportion of variance explained (-∞ to 1)\n",
        "  + Adjusted R²: R² adjusted for number of predictors"
      ],
      "metadata": {
        "id": "s-JSFdBGpj7u"
      }
    },
    {
      "cell_type": "code",
      "source": [
        "# Evaluate the best model\n",
        "\n",
        "# Measures the average squared difference between the predicted values and the actual values.\n",
        "# A lower MSE indicates a better fit of the model to the data.\n",
        "mse = mean_squared_error(y_test, predictions)\n",
        "\n",
        "# Measures the average absolute difference between the predicted and actual values.\n",
        "mae = mean_absolute_error(y_test, predictions)\n",
        "\n",
        "# Square root of the average squared differences between predictions and actual values.\n",
        "rmse = np.sqrt(mse)\n",
        "\n",
        "# Measures the proportion of the variance in the target variable that is captured by the model.\n",
        "# Values range from 0 to 1 (higher is better).\n",
        "explained_variance = explained_variance_score(y_test, predictions)\n",
        "\n",
        "# Measures the proportion of variance in the dependent variable explained by the independent variables.\n",
        "# Ranges from -inf to 1. (1 is perfect)\n",
        "r2 = r2_score(y_test, predictions)\n",
        "\n",
        "# Calculate Adjusted R² to account for the number of predictors in the model.\n",
        "n = X_test.shape[0]  # Number of samples\n",
        "p = X_test.shape[1]  # Number of predictors\n",
        "adjusted_r2 = 1 - (1 - r2) * (n - 1) / (n - p - 1)\n",
        "\n",
        "# Evaluate the model metrics\n",
        "metrics = {\n",
        "    'Metric': ['Mean Squared Error (MSE)', 'Mean Absolute Error (MAE)', 'Root Mean Squared Error (RMSE)',\n",
        "               'Explained Variance Score', 'R² Score', 'Adjusted R² Score'],\n",
        "    'Value': [mse, mae, rmse, explained_variance, r2, adjusted_r2]\n",
        "}\n",
        "\n",
        "# Create a DataFrame for the metrics\n",
        "metrics_df = pd.DataFrame(metrics)\n",
        "metrics_df"
      ],
      "metadata": {
        "colab": {
          "base_uri": "https://localhost:8080/",
          "height": 238
        },
        "id": "sM64EHqRw3fH",
        "outputId": "2bd7a60d-3632-4cb0-c117-1170204ebd32"
      },
      "execution_count": null,
      "outputs": [
        {
          "output_type": "execute_result",
          "data": {
            "text/plain": [
              "                           Metric         Value\n",
              "0        Mean Squared Error (MSE)  68615.365428\n",
              "1       Mean Absolute Error (MAE)    181.295767\n",
              "2  Root Mean Squared Error (RMSE)    261.945348\n",
              "3        Explained Variance Score      0.767663\n",
              "4                        R² Score      0.760970\n",
              "5               Adjusted R² Score      0.752612"
            ],
            "text/html": [
              "\n",
              "  <div id=\"df-ade54997-2acd-40bc-8407-8b3f8ca83b9b\" class=\"colab-df-container\">\n",
              "    <div>\n",
              "<style scoped>\n",
              "    .dataframe tbody tr th:only-of-type {\n",
              "        vertical-align: middle;\n",
              "    }\n",
              "\n",
              "    .dataframe tbody tr th {\n",
              "        vertical-align: top;\n",
              "    }\n",
              "\n",
              "    .dataframe thead th {\n",
              "        text-align: right;\n",
              "    }\n",
              "</style>\n",
              "<table border=\"1\" class=\"dataframe\">\n",
              "  <thead>\n",
              "    <tr style=\"text-align: right;\">\n",
              "      <th></th>\n",
              "      <th>Metric</th>\n",
              "      <th>Value</th>\n",
              "    </tr>\n",
              "  </thead>\n",
              "  <tbody>\n",
              "    <tr>\n",
              "      <th>0</th>\n",
              "      <td>Mean Squared Error (MSE)</td>\n",
              "      <td>68615.365428</td>\n",
              "    </tr>\n",
              "    <tr>\n",
              "      <th>1</th>\n",
              "      <td>Mean Absolute Error (MAE)</td>\n",
              "      <td>181.295767</td>\n",
              "    </tr>\n",
              "    <tr>\n",
              "      <th>2</th>\n",
              "      <td>Root Mean Squared Error (RMSE)</td>\n",
              "      <td>261.945348</td>\n",
              "    </tr>\n",
              "    <tr>\n",
              "      <th>3</th>\n",
              "      <td>Explained Variance Score</td>\n",
              "      <td>0.767663</td>\n",
              "    </tr>\n",
              "    <tr>\n",
              "      <th>4</th>\n",
              "      <td>R² Score</td>\n",
              "      <td>0.760970</td>\n",
              "    </tr>\n",
              "    <tr>\n",
              "      <th>5</th>\n",
              "      <td>Adjusted R² Score</td>\n",
              "      <td>0.752612</td>\n",
              "    </tr>\n",
              "  </tbody>\n",
              "</table>\n",
              "</div>\n",
              "    <div class=\"colab-df-buttons\">\n",
              "\n",
              "  <div class=\"colab-df-container\">\n",
              "    <button class=\"colab-df-convert\" onclick=\"convertToInteractive('df-ade54997-2acd-40bc-8407-8b3f8ca83b9b')\"\n",
              "            title=\"Convert this dataframe to an interactive table.\"\n",
              "            style=\"display:none;\">\n",
              "\n",
              "  <svg xmlns=\"http://www.w3.org/2000/svg\" height=\"24px\" viewBox=\"0 -960 960 960\">\n",
              "    <path d=\"M120-120v-720h720v720H120Zm60-500h600v-160H180v160Zm220 220h160v-160H400v160Zm0 220h160v-160H400v160ZM180-400h160v-160H180v160Zm440 0h160v-160H620v160ZM180-180h160v-160H180v160Zm440 0h160v-160H620v160Z\"/>\n",
              "  </svg>\n",
              "    </button>\n",
              "\n",
              "  <style>\n",
              "    .colab-df-container {\n",
              "      display:flex;\n",
              "      gap: 12px;\n",
              "    }\n",
              "\n",
              "    .colab-df-convert {\n",
              "      background-color: #E8F0FE;\n",
              "      border: none;\n",
              "      border-radius: 50%;\n",
              "      cursor: pointer;\n",
              "      display: none;\n",
              "      fill: #1967D2;\n",
              "      height: 32px;\n",
              "      padding: 0 0 0 0;\n",
              "      width: 32px;\n",
              "    }\n",
              "\n",
              "    .colab-df-convert:hover {\n",
              "      background-color: #E2EBFA;\n",
              "      box-shadow: 0px 1px 2px rgba(60, 64, 67, 0.3), 0px 1px 3px 1px rgba(60, 64, 67, 0.15);\n",
              "      fill: #174EA6;\n",
              "    }\n",
              "\n",
              "    .colab-df-buttons div {\n",
              "      margin-bottom: 4px;\n",
              "    }\n",
              "\n",
              "    [theme=dark] .colab-df-convert {\n",
              "      background-color: #3B4455;\n",
              "      fill: #D2E3FC;\n",
              "    }\n",
              "\n",
              "    [theme=dark] .colab-df-convert:hover {\n",
              "      background-color: #434B5C;\n",
              "      box-shadow: 0px 1px 3px 1px rgba(0, 0, 0, 0.15);\n",
              "      filter: drop-shadow(0px 1px 2px rgba(0, 0, 0, 0.3));\n",
              "      fill: #FFFFFF;\n",
              "    }\n",
              "  </style>\n",
              "\n",
              "    <script>\n",
              "      const buttonEl =\n",
              "        document.querySelector('#df-ade54997-2acd-40bc-8407-8b3f8ca83b9b button.colab-df-convert');\n",
              "      buttonEl.style.display =\n",
              "        google.colab.kernel.accessAllowed ? 'block' : 'none';\n",
              "\n",
              "      async function convertToInteractive(key) {\n",
              "        const element = document.querySelector('#df-ade54997-2acd-40bc-8407-8b3f8ca83b9b');\n",
              "        const dataTable =\n",
              "          await google.colab.kernel.invokeFunction('convertToInteractive',\n",
              "                                                    [key], {});\n",
              "        if (!dataTable) return;\n",
              "\n",
              "        const docLinkHtml = 'Like what you see? Visit the ' +\n",
              "          '<a target=\"_blank\" href=https://colab.research.google.com/notebooks/data_table.ipynb>data table notebook</a>'\n",
              "          + ' to learn more about interactive tables.';\n",
              "        element.innerHTML = '';\n",
              "        dataTable['output_type'] = 'display_data';\n",
              "        await google.colab.output.renderOutput(dataTable, element);\n",
              "        const docLink = document.createElement('div');\n",
              "        docLink.innerHTML = docLinkHtml;\n",
              "        element.appendChild(docLink);\n",
              "      }\n",
              "    </script>\n",
              "  </div>\n",
              "\n",
              "\n",
              "<div id=\"df-45b9b62d-b068-4214-9cb7-12fe4b5e19ff\">\n",
              "  <button class=\"colab-df-quickchart\" onclick=\"quickchart('df-45b9b62d-b068-4214-9cb7-12fe4b5e19ff')\"\n",
              "            title=\"Suggest charts\"\n",
              "            style=\"display:none;\">\n",
              "\n",
              "<svg xmlns=\"http://www.w3.org/2000/svg\" height=\"24px\"viewBox=\"0 0 24 24\"\n",
              "     width=\"24px\">\n",
              "    <g>\n",
              "        <path d=\"M19 3H5c-1.1 0-2 .9-2 2v14c0 1.1.9 2 2 2h14c1.1 0 2-.9 2-2V5c0-1.1-.9-2-2-2zM9 17H7v-7h2v7zm4 0h-2V7h2v10zm4 0h-2v-4h2v4z\"/>\n",
              "    </g>\n",
              "</svg>\n",
              "  </button>\n",
              "\n",
              "<style>\n",
              "  .colab-df-quickchart {\n",
              "      --bg-color: #E8F0FE;\n",
              "      --fill-color: #1967D2;\n",
              "      --hover-bg-color: #E2EBFA;\n",
              "      --hover-fill-color: #174EA6;\n",
              "      --disabled-fill-color: #AAA;\n",
              "      --disabled-bg-color: #DDD;\n",
              "  }\n",
              "\n",
              "  [theme=dark] .colab-df-quickchart {\n",
              "      --bg-color: #3B4455;\n",
              "      --fill-color: #D2E3FC;\n",
              "      --hover-bg-color: #434B5C;\n",
              "      --hover-fill-color: #FFFFFF;\n",
              "      --disabled-bg-color: #3B4455;\n",
              "      --disabled-fill-color: #666;\n",
              "  }\n",
              "\n",
              "  .colab-df-quickchart {\n",
              "    background-color: var(--bg-color);\n",
              "    border: none;\n",
              "    border-radius: 50%;\n",
              "    cursor: pointer;\n",
              "    display: none;\n",
              "    fill: var(--fill-color);\n",
              "    height: 32px;\n",
              "    padding: 0;\n",
              "    width: 32px;\n",
              "  }\n",
              "\n",
              "  .colab-df-quickchart:hover {\n",
              "    background-color: var(--hover-bg-color);\n",
              "    box-shadow: 0 1px 2px rgba(60, 64, 67, 0.3), 0 1px 3px 1px rgba(60, 64, 67, 0.15);\n",
              "    fill: var(--button-hover-fill-color);\n",
              "  }\n",
              "\n",
              "  .colab-df-quickchart-complete:disabled,\n",
              "  .colab-df-quickchart-complete:disabled:hover {\n",
              "    background-color: var(--disabled-bg-color);\n",
              "    fill: var(--disabled-fill-color);\n",
              "    box-shadow: none;\n",
              "  }\n",
              "\n",
              "  .colab-df-spinner {\n",
              "    border: 2px solid var(--fill-color);\n",
              "    border-color: transparent;\n",
              "    border-bottom-color: var(--fill-color);\n",
              "    animation:\n",
              "      spin 1s steps(1) infinite;\n",
              "  }\n",
              "\n",
              "  @keyframes spin {\n",
              "    0% {\n",
              "      border-color: transparent;\n",
              "      border-bottom-color: var(--fill-color);\n",
              "      border-left-color: var(--fill-color);\n",
              "    }\n",
              "    20% {\n",
              "      border-color: transparent;\n",
              "      border-left-color: var(--fill-color);\n",
              "      border-top-color: var(--fill-color);\n",
              "    }\n",
              "    30% {\n",
              "      border-color: transparent;\n",
              "      border-left-color: var(--fill-color);\n",
              "      border-top-color: var(--fill-color);\n",
              "      border-right-color: var(--fill-color);\n",
              "    }\n",
              "    40% {\n",
              "      border-color: transparent;\n",
              "      border-right-color: var(--fill-color);\n",
              "      border-top-color: var(--fill-color);\n",
              "    }\n",
              "    60% {\n",
              "      border-color: transparent;\n",
              "      border-right-color: var(--fill-color);\n",
              "    }\n",
              "    80% {\n",
              "      border-color: transparent;\n",
              "      border-right-color: var(--fill-color);\n",
              "      border-bottom-color: var(--fill-color);\n",
              "    }\n",
              "    90% {\n",
              "      border-color: transparent;\n",
              "      border-bottom-color: var(--fill-color);\n",
              "    }\n",
              "  }\n",
              "</style>\n",
              "\n",
              "  <script>\n",
              "    async function quickchart(key) {\n",
              "      const quickchartButtonEl =\n",
              "        document.querySelector('#' + key + ' button');\n",
              "      quickchartButtonEl.disabled = true;  // To prevent multiple clicks.\n",
              "      quickchartButtonEl.classList.add('colab-df-spinner');\n",
              "      try {\n",
              "        const charts = await google.colab.kernel.invokeFunction(\n",
              "            'suggestCharts', [key], {});\n",
              "      } catch (error) {\n",
              "        console.error('Error during call to suggestCharts:', error);\n",
              "      }\n",
              "      quickchartButtonEl.classList.remove('colab-df-spinner');\n",
              "      quickchartButtonEl.classList.add('colab-df-quickchart-complete');\n",
              "    }\n",
              "    (() => {\n",
              "      let quickchartButtonEl =\n",
              "        document.querySelector('#df-45b9b62d-b068-4214-9cb7-12fe4b5e19ff button');\n",
              "      quickchartButtonEl.style.display =\n",
              "        google.colab.kernel.accessAllowed ? 'block' : 'none';\n",
              "    })();\n",
              "  </script>\n",
              "</div>\n",
              "\n",
              "  <div id=\"id_181ad127-c76c-4fa5-9403-eaa50eda7b35\">\n",
              "    <style>\n",
              "      .colab-df-generate {\n",
              "        background-color: #E8F0FE;\n",
              "        border: none;\n",
              "        border-radius: 50%;\n",
              "        cursor: pointer;\n",
              "        display: none;\n",
              "        fill: #1967D2;\n",
              "        height: 32px;\n",
              "        padding: 0 0 0 0;\n",
              "        width: 32px;\n",
              "      }\n",
              "\n",
              "      .colab-df-generate:hover {\n",
              "        background-color: #E2EBFA;\n",
              "        box-shadow: 0px 1px 2px rgba(60, 64, 67, 0.3), 0px 1px 3px 1px rgba(60, 64, 67, 0.15);\n",
              "        fill: #174EA6;\n",
              "      }\n",
              "\n",
              "      [theme=dark] .colab-df-generate {\n",
              "        background-color: #3B4455;\n",
              "        fill: #D2E3FC;\n",
              "      }\n",
              "\n",
              "      [theme=dark] .colab-df-generate:hover {\n",
              "        background-color: #434B5C;\n",
              "        box-shadow: 0px 1px 3px 1px rgba(0, 0, 0, 0.15);\n",
              "        filter: drop-shadow(0px 1px 2px rgba(0, 0, 0, 0.3));\n",
              "        fill: #FFFFFF;\n",
              "      }\n",
              "    </style>\n",
              "    <button class=\"colab-df-generate\" onclick=\"generateWithVariable('metrics_df')\"\n",
              "            title=\"Generate code using this dataframe.\"\n",
              "            style=\"display:none;\">\n",
              "\n",
              "  <svg xmlns=\"http://www.w3.org/2000/svg\" height=\"24px\"viewBox=\"0 0 24 24\"\n",
              "       width=\"24px\">\n",
              "    <path d=\"M7,19H8.4L18.45,9,17,7.55,7,17.6ZM5,21V16.75L18.45,3.32a2,2,0,0,1,2.83,0l1.4,1.43a1.91,1.91,0,0,1,.58,1.4,1.91,1.91,0,0,1-.58,1.4L9.25,21ZM18.45,9,17,7.55Zm-12,3A5.31,5.31,0,0,0,4.9,8.1,5.31,5.31,0,0,0,1,6.5,5.31,5.31,0,0,0,4.9,4.9,5.31,5.31,0,0,0,6.5,1,5.31,5.31,0,0,0,8.1,4.9,5.31,5.31,0,0,0,12,6.5,5.46,5.46,0,0,0,6.5,12Z\"/>\n",
              "  </svg>\n",
              "    </button>\n",
              "    <script>\n",
              "      (() => {\n",
              "      const buttonEl =\n",
              "        document.querySelector('#id_181ad127-c76c-4fa5-9403-eaa50eda7b35 button.colab-df-generate');\n",
              "      buttonEl.style.display =\n",
              "        google.colab.kernel.accessAllowed ? 'block' : 'none';\n",
              "\n",
              "      buttonEl.onclick = () => {\n",
              "        google.colab.notebook.generateWithVariable('metrics_df');\n",
              "      }\n",
              "      })();\n",
              "    </script>\n",
              "  </div>\n",
              "\n",
              "    </div>\n",
              "  </div>\n"
            ],
            "application/vnd.google.colaboratory.intrinsic+json": {
              "type": "dataframe",
              "variable_name": "metrics_df",
              "summary": "{\n  \"name\": \"metrics_df\",\n  \"rows\": 6,\n  \"fields\": [\n    {\n      \"column\": \"Metric\",\n      \"properties\": {\n        \"dtype\": \"string\",\n        \"num_unique_values\": 6,\n        \"samples\": [\n          \"Mean Squared Error (MSE)\",\n          \"Mean Absolute Error (MAE)\",\n          \"Adjusted R\\u00b2 Score\"\n        ],\n        \"semantic_type\": \"\",\n        \"description\": \"\"\n      }\n    },\n    {\n      \"column\": \"Value\",\n      \"properties\": {\n        \"dtype\": \"number\",\n        \"std\": 27975.94974634079,\n        \"min\": 0.7526118675880727,\n        \"max\": 68615.36542780156,\n        \"num_unique_values\": 6,\n        \"samples\": [\n          68615.36542780156,\n          181.29576699712612,\n          0.7526118675880727\n        ],\n        \"semantic_type\": \"\",\n        \"description\": \"\"\n      }\n    }\n  ]\n}"
            }
          },
          "metadata": {},
          "execution_count": 35
        }
      ]
    },
    {
      "cell_type": "markdown",
      "source": [
        "Extracts and displays feature importance information from a trained model:\n",
        "\n",
        "- Checks if model supports feature importances\n",
        "- Gets preprocessor components for different feature types:\n",
        "\n",
        "- Combines all feature names and their importance scores\n",
        "- Creates sorted DataFrame showing most influential features\n",
        "\n",
        "This helps identify which factors affect the model's predictions the most."
      ],
      "metadata": {
        "id": "fgMvl3BjqC_b"
      }
    },
    {
      "cell_type": "code",
      "source": [
        "if hasattr(best_model.named_steps['regressor'], 'feature_importances_'):\n",
        "    feature_importances = best_model.named_steps['regressor'].feature_importances_\n",
        "\n",
        "    # Access the transformers for numeric, categorical, and skills preprocessing\n",
        "    preprocessor = best_model.named_steps['preprocessor']\n",
        "\n",
        "    # Extract numeric feature names\n",
        "    numeric_feature_names = numeric_features\n",
        "\n",
        "    # Extract categorical feature names\n",
        "    cat_transformer = preprocessor.transformers_[1][1].named_steps['onehot']\n",
        "    categorical_feature_names = cat_transformer.get_feature_names_out(categorical_features).tolist()\n",
        "\n",
        "    # Extract tokenized skill feature names\n",
        "    skill_transformer = preprocessor.transformers_[2][1].named_steps['vectorizer']\n",
        "    skill_feature_names = skill_transformer.get_feature_names_out().tolist()\n",
        "\n",
        "    # Combine all feature names\n",
        "    feature_names = numeric_feature_names + categorical_feature_names + skill_feature_names\n",
        "\n",
        "    # Create a DataFrame for feature importance\n",
        "    feature_importance_df = pd.DataFrame({\n",
        "        'Feature': feature_names,\n",
        "        'Importance': feature_importances\n",
        "    }).sort_values(by='Importance', ascending=False)\n",
        "\n",
        "    print(\"Feature Importances:\")\n",
        "    print(feature_importance_df.head(10))\n"
      ],
      "metadata": {
        "colab": {
          "base_uri": "https://localhost:8080/"
        },
        "id": "6t-f_X8d8QMh",
        "outputId": "bac89e27-3074-49c4-bf6f-5387284b62b4"
      },
      "execution_count": null,
      "outputs": [
        {
          "output_type": "stream",
          "name": "stdout",
          "text": [
            "Feature Importances:\n",
            "                          Feature  Importance\n",
            "0             Years of Experience    0.115134\n",
            "31                   Level_Junior    0.089120\n",
            "510                       banking    0.017704\n",
            "44   Location_Hà nội, Hồ Chí Minh    0.016860\n",
            "38              Location_Bắc Ninh    0.015386\n",
            "541                        devops    0.013167\n",
            "73                       analysis    0.011400\n",
            "30             Level_Intermediate    0.011240\n",
            "276                      lãnh đạo    0.010524\n",
            "43                Location_Hà nội    0.010047\n"
          ]
        }
      ]
    },
    {
      "cell_type": "markdown",
      "source": [
        "# Visualize Metrics"
      ],
      "metadata": {
        "id": "4QG8gQS20uTO"
      }
    },
    {
      "cell_type": "code",
      "source": [
        "import matplotlib.pyplot as plt\n",
        "import seaborn as sns\n",
        "import numpy as np\n",
        "\n",
        "# Combine all metrics into one dictionary\n",
        "metrics = {\n",
        "    'MSE': mse,\n",
        "    'MAE': mae,\n",
        "    'RMSE': rmse,\n",
        "    'Explained Variance': explained_variance,\n",
        "    'Adjusted R²': adjusted_r2\n",
        "}\n",
        "\n",
        "# Create a bar chart with a logarithmic scale\n",
        "plt.figure(figsize=(10, 6))\n",
        "sns.barplot(x=list(metrics.keys()), y=list(metrics.values()), palette=\"viridis\")\n",
        "plt.yscale('log')  # Apply logarithmic scale to the y-axis\n",
        "plt.title(\"Model Evaluation Metrics (Log Scale)\", fontsize=16)\n",
        "plt.ylabel(\"Score (Log Scale)\", fontsize=12)\n",
        "plt.xlabel(\"Metrics\", fontsize=12)\n",
        "plt.tight_layout()\n",
        "plt.show()\n",
        "\n",
        "# Visualization of Feature Importances (if available)\n",
        "if 'feature_importance_df' in locals() or 'feature_importance_df' in globals():\n",
        "    plt.figure(figsize=(10, 8))\n",
        "    sns.barplot(\n",
        "        data=feature_importance_df.head(10),\n",
        "        y='Feature',\n",
        "        x='Importance',\n",
        "        palette=\"coolwarm\"\n",
        "    )\n",
        "    plt.title(\"Top 10 Feature Importances\", fontsize=16)\n",
        "    plt.xlabel(\"Importance\", fontsize=12)\n",
        "    plt.ylabel(\"Feature\", fontsize=12)\n",
        "    plt.tight_layout()\n",
        "    plt.show()\n",
        "else:\n",
        "    print(\"Feature importances are not available for the chosen model.\")"
      ],
      "metadata": {
        "colab": {
          "base_uri": "https://localhost:8080/",
          "height": 1000
        },
        "id": "2lgzee9Dz-2h",
        "outputId": "e0302337-4233-4be0-8250-7751fb625e39"
      },
      "execution_count": null,
      "outputs": [
        {
          "output_type": "stream",
          "name": "stderr",
          "text": [
            "<ipython-input-37-c2ad30a35962>:16: FutureWarning: \n",
            "\n",
            "Passing `palette` without assigning `hue` is deprecated and will be removed in v0.14.0. Assign the `x` variable to `hue` and set `legend=False` for the same effect.\n",
            "\n",
            "  sns.barplot(x=list(metrics.keys()), y=list(metrics.values()), palette=\"viridis\")\n"
          ]
        },
        {
          "output_type": "display_data",
          "data": {
            "text/plain": [
              "<Figure size 1000x600 with 1 Axes>"
            ],
            "image/png": "[encoded data removed]"
          },
          "metadata": {}
        },
        {
          "output_type": "stream",
          "name": "stderr",
          "text": [
            "<ipython-input-37-c2ad30a35962>:27: FutureWarning: \n",
            "\n",
            "Passing `palette` without assigning `hue` is deprecated and will be removed in v0.14.0. Assign the `y` variable to `hue` and set `legend=False` for the same effect.\n",
            "\n",
            "  sns.barplot(\n"
          ]
        },
        {
          "output_type": "display_data",
          "data": {
            "text/plain": [
              "<Figure size 1000x800 with 1 Axes>"
            ],
            "image/png": "[encoded data removed]"
          },
          "metadata": {}
        }
      ]
    },
    {
      "cell_type": "markdown",
      "source": [
        "# Generate Data"
      ],
      "metadata": {
        "id": "i3n4tKYSX3Dg"
      }
    },
    {
      "cell_type": "markdown",
      "source": [
        "- Data Structure:\n",
        "  + Creates 150 total records (50 each for Junior/Intermediate/Senior)\n",
        "  + Fields: Years of Experience, Role, Level, Required Skills, Location\n",
        "\n",
        "- Key Components:\n",
        "  + Experience ranges: Junior (1-2 years), Intermediate (3-5), Senior (5-15)\n",
        "  + Roles: Data Engineer and Software Engineer\n",
        "  + Predefined skill sets for each role/level combination\n",
        "  + Locations: 5 major Vietnamese cities\n",
        "\n",
        "- Data Generation Process:\n",
        "  + Creates separate DataFrames for each level\n",
        "  + Assigns random skills based on role/level\n",
        "  + Randomly assigns Vietnamese cities\n",
        "  + Combines all data into final_data DataFrame"
      ],
      "metadata": {
        "id": "u88RXDkunLTO"
      }
    },
    {
      "cell_type": "code",
      "execution_count": null,
      "metadata": {
        "colab": {
          "base_uri": "https://localhost:8080/"
        },
        "id": "vQwkbAHapkVf",
        "outputId": "772ff5de-5e61-4794-e1fc-31023b086086"
      },
      "outputs": [
        {
          "output_type": "stream",
          "name": "stdout",
          "text": [
            "   Years of Experience           Role   Level  \\\n",
            "0                    1  data engineer  Junior   \n",
            "1                    1  data engineer  Junior   \n",
            "2                    1  data engineer  Junior   \n",
            "3                    1  data engineer  Junior   \n",
            "4                    1  data engineer  Junior   \n",
            "\n",
            "                                     Required Skills   Location  \n",
            "0  Data Wrangling, Data Analysis, Basic ETL, Pyth...    Đà Nẵng  \n",
            "1  SQL, Data Wrangling, Python, Data Analysis, Ba...  Hải Phòng  \n",
            "2  Data Wrangling, Python, Basic ETL, SQL, Data A...    Đà Nẵng  \n",
            "3  Python, Basic ETL, Data Wrangling, SQL, Data A...  Hải Phòng  \n",
            "4  Python, SQL, Data Wrangling, Basic ETL, Data A...    Đà Nẵng  \n"
          ]
        }
      ],
      "source": [
        "import numpy as np\n",
        "\n",
        "# Define the categories for 'Role' and 'Level'\n",
        "levels = ['Junior', 'Intermediate', 'Senior']\n",
        "\n",
        "# Generate random data\n",
        "num_samples = 50  # Number of samples per level\n",
        "\n",
        "# Create data for each level\n",
        "junior_data = {\n",
        "    'Years of Experience': np.random.randint(1, 2, num_samples),\n",
        "    'Role': 'data engineer',\n",
        "    'Level': 'Junior'\n",
        "}\n",
        "\n",
        "intermediate_data = {\n",
        "    'Years of Experience': np.random.randint(3, 5, num_samples),\n",
        "    'Role': 'software engineer',\n",
        "    'Level': 'Intermediate'\n",
        "}\n",
        "\n",
        "senior_data = {\n",
        "    'Years of Experience': np.random.randint(5, 15, num_samples),\n",
        "    'Role': 'data engineer',\n",
        "    'Level': 'Senior'\n",
        "}\n",
        "\n",
        "import random\n",
        "\n",
        "# Define skills for each role and level\n",
        "skills_dict = {\n",
        "    'data engineer': {\n",
        "        'Junior': ['SQL', 'Python', 'Data Wrangling', 'Basic ETL', 'Data Analysis'],\n",
        "        'Intermediate': ['Apache Spark', 'AWS', 'Data Pipelines', 'ETL', 'Data Modeling'],\n",
        "        'Senior': ['Big Data', 'Cloud Architecture', 'Advanced ETL', 'Data Warehousing', 'System Design']\n",
        "    },\n",
        "    'software engineer': {\n",
        "        'Junior': ['JavaScript', 'HTML', 'CSS', 'Python', 'Basic Web Development'],\n",
        "        'Intermediate': ['React', 'Node.js', 'Full-Stack Development', 'REST APIs', 'Database Management'],\n",
        "        'Senior': ['Microservices', 'System Design', 'DevOps', 'Cloud Computing', 'Distributed Systems']\n",
        "    }\n",
        "}\n",
        "\n",
        "# Function to generate random skills for each sample based on role and level\n",
        "def generate_skills(row):\n",
        "    role = row['Role']\n",
        "    level = row['Level']\n",
        "    skills = skills_dict.get(role, {}).get(level, [])\n",
        "    # Randomly select a subset of skills (up to 5 skills)\n",
        "    return ', '.join(random.sample(skills, k=min(5, len(skills))))\n",
        "\n",
        "# Define Vietnamese cities\n",
        "vietnamese_cities = [\n",
        "    'Hà Nội', 'Hồ Chí Minh', 'Đà Nẵng', 'Hải Phòng', 'Cần Thơ'\n",
        "]\n",
        "\n",
        "# Function to assign a random Vietnamese city\n",
        "def assign_city():\n",
        "    return random.choice(vietnamese_cities)\n",
        "\n",
        "# Create DataFrames for each level\n",
        "junior_df = pd.DataFrame(junior_data)\n",
        "intermediate_df = pd.DataFrame(intermediate_data)\n",
        "senior_df = pd.DataFrame(senior_data)\n",
        "\n",
        "# Concatenate DataFrames\n",
        "final_data = pd.concat([junior_df, intermediate_df, senior_df], ignore_index=True)\n",
        "\n",
        "# Apply the function to generate required skills\n",
        "final_data['Required Skills'] = final_data.apply(generate_skills, axis=1)\n",
        "\n",
        "# Assign random Vietnamese cities to the 'Location' column\n",
        "final_data['Location'] = final_data.apply(lambda _: assign_city(), axis=1)\n",
        "\n",
        "# Display first few rows\n",
        "print(final_data.head())"
      ]
    },
    {
      "cell_type": "markdown",
      "source": [
        "# Predict on generated data"
      ],
      "metadata": {
        "id": "rjigWogxXzOx"
      }
    },
    {
      "cell_type": "code",
      "execution_count": null,
      "metadata": {
        "id": "WOGK76HRuTN4"
      },
      "outputs": [],
      "source": [
        "# Predict salaries using the trained model\n",
        "predictions = best_model.predict(final_data)\n",
        "\n",
        "# Add the predicted salaries to the new data\n",
        "final_data['Predicted Salary'] = predictions\n",
        "final_data.to_csv(\"predicted.csv\")"
      ]
    },
    {
      "cell_type": "markdown",
      "source": [
        "# Save Model"
      ],
      "metadata": {
        "id": "ZjmFmX-VXyEI"
      }
    },
    {
      "cell_type": "code",
      "execution_count": null,
      "metadata": {
        "colab": {
          "base_uri": "https://localhost:8080/"
        },
        "id": "rkpnxNpOoLI4",
        "outputId": "55dd077d-5cc6-4db0-c3da-b9df701d5698"
      },
      "outputs": [
        {
          "output_type": "execute_result",
          "data": {
            "text/plain": [
              "['random_forest_regressor.pkl']"
            ]
          },
          "metadata": {},
          "execution_count": 3
        }
      ],
      "source": [
        "import joblib\n",
        "\n",
        "# Save the LinearRegression model\n",
        "joblib.dump(best_model, 'random_forest_regressor.pkl')"
      ]
    },
    {
      "cell_type": "markdown",
      "source": [
        "# Use Model"
      ],
      "metadata": {
        "id": "xC2TZr1AZoI4"
      }
    },
    {
      "cell_type": "markdown",
      "source": [
        "## Load model REMEMBER TO CHANGE PATH"
      ],
      "metadata": {
        "id": "R4Aqp5BxZ7bE"
      }
    },
    {
      "cell_type": "code",
      "source": [
        "import joblib\n",
        "\n",
        "# Load the trained RandomForestRegressor model\n",
        "model = joblib.load('/content/random_forest_regressor.pkl') #"
      ],
      "metadata": {
        "id": "mWxZZ1XwZ7ON"
      },
      "execution_count": null,
      "outputs": []
    },
    {
      "cell_type": "markdown",
      "source": [
        "## predict data"
      ],
      "metadata": {
        "id": "C_PYBBd3Z6Hv"
      }
    },
    {
      "cell_type": "code",
      "source": [
        "predictions = model.predict(final_data)\n",
        "# Show the predictions\n",
        "print(\"Predictions for new data:\", predictions)"
      ],
      "metadata": {
        "colab": {
          "base_uri": "https://localhost:8080/"
        },
        "id": "8t2TDhhfZpNv",
        "outputId": "a1a1876b-dde7-4b61-9f1e-6534a17f8d52"
      },
      "execution_count": null,
      "outputs": [
        {
          "output_type": "stream",
          "name": "stdout",
          "text": [
            "Predictions for new data: [ 581.70255832  601.015948    581.70255832  558.60265026  558.60265026\n",
            "  645.03338722  647.8342393   581.70255832  645.03338722  558.60265026\n",
            "  572.1961998   645.03338722  647.8342393   647.8342393   638.85838434\n",
            "  601.015948    558.60265026  601.015948    581.70255832  581.70255832\n",
            "  638.85838434  581.70255832  572.1961998   558.60265026  581.70255832\n",
            "  601.015948    581.70255832  581.70255832  581.70255832  581.70255832\n",
            "  601.015948    572.1961998   558.60265026  581.70255832  612.32970114\n",
            "  638.85838434  666.75135824  647.8342393   581.70255832  558.60265026\n",
            "  601.015948    661.07087427  622.481143    601.015948    558.60265026\n",
            "  581.70255832  661.07087427  558.60265026  645.03338722  581.70255832\n",
            " 1212.67926666 1098.90697722 1118.09920225 1098.90697722 1098.90697722\n",
            " 1099.24166574 1198.13239168 1211.7933075  1092.10139165 1211.02190131\n",
            " 1211.02190131 1197.69924813 1210.78557694 1210.21846367 1098.90697722\n",
            " 1210.78557694 1210.98986987 1087.97187609 1211.7933075  1099.24166574\n",
            " 1197.69924813 1211.02190131 1210.21846367 1211.02190131 1211.02190131\n",
            " 1086.58848048 1211.02190131 1210.98986987 1099.24166574 1099.24166574\n",
            " 1211.02190131 1086.25379196 1092.10139165 1099.24166574 1117.53210664\n",
            " 1092.10139165 1100.62506135 1092.10139165 1211.02190131 1087.97187609\n",
            " 1211.7933075  1197.69924813 1198.36871604 1108.44651102 1086.25379196\n",
            " 1117.53210664 1116.38111812 1211.7933075  1211.7933075  1210.78557694\n",
            " 1317.17154001 1793.6028369  1648.57831096 1573.99167632 1292.09379625\n",
            " 1658.75628277 1658.75628277 1648.57831096 1313.53502812 1805.50669357\n",
            " 1313.53502812 1740.99101713 1657.53030769 1673.75628277 1668.3379902\n",
            " 1672.53030769 1663.40824429 1800.56135007 1658.75628277 1663.40824429\n",
            " 1567.37663228 1658.75628277 1577.24710595 1658.75628277 1658.75628277\n",
            " 1657.53030769 1801.1760694  1793.6028369  1788.6574934  1658.75628277\n",
            " 1317.17154001 1574.82443188 1793.6028369  1658.75628277 1793.6028369\n",
            " 1313.53502812 1793.6028369  1798.07992607 1668.3379902  1574.82443188\n",
            " 1803.6574934  1793.6028369  1574.82443188 1575.17225595 1657.53030769\n",
            " 1317.17154001 1672.53030769 1667.11201511 1395.66921977 1801.1760694 ]\n"
          ]
        }
      ]
    }
  ],
  "metadata": {
    "colab": {
      "provenance": []
    },
    "kernelspec": {
      "display_name": "venv",
      "language": "python",
      "name": "python3"
    },
    "language_info": {
      "codemirror_mode": {
        "name": "ipython",
        "version": 3
      },
      "file_extension": ".py",
      "mimetype": "text/x-python",
      "name": "python",
      "nbconvert_exporter": "python",
      "pygments_lexer": "ipython3",
      "version": "3.12.5"
    }
  },
  "nbformat": 4,
  "nbformat_minor": 0
}